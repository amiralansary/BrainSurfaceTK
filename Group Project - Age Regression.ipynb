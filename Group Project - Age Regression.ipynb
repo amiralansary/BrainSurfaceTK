{
 "cells": [
  {
   "cell_type": "markdown",
   "metadata": {},
   "source": [
    "# Coursework: Age regression from brain MRI"
   ]
  },
  {
   "cell_type": "markdown",
   "metadata": {},
   "source": [
    "Predicting the age of patient from a brain MRI scan can have diagnostic value for a number of diseases that may cause structural changes and potential damage to the brain. A discrepancy between the predicted age and the real, chronological age of a patient might indicate the presence of disease. This requires an accurate predictor of brain age which may be learned from a set of healthy reference subjects, given their brain MRI data and their actual age.\n",
    "\n",
    "The objective for the coursework is to implement different supervised learning approaches for age regression from brain MRI. We provided data from a total of 652 healthy subjects, that is split into different development sets and a held-out test set on which you will evaluate your final prediction accuracy.\n",
    "\n",
    "Each approach will require a processing pipeline with different components that you will need to implement using methods that were discussed in the lectures and tutorials. There are three dedicated parts in the Jupyter notebook for each approach which contain some detailed instructions and some helper code.\n",
    "\n",
    "You may find some useful ideas and implementations in the tutorial notebooks. Once you have implemented all approaches and obtained results from your experiments, we ask you to write a short summary report. The reports should contain a short introduction, description of each of your methods and the individual processing steps, your results with a brief discussion. The report should also include some figures and plots to support your findings.\n",
    "\n",
    "#### Read the text descriptions and the provided code cells carefully and look out for the cells marked with 'TASK' and 'ADD YOUR CODE HERE'."
   ]
  },
  {
   "cell_type": "markdown",
   "metadata": {},
   "source": [
    "### Getting started and familiarise ourselves with the data\n",
    "\n",
    "The following cells provide some helper functions to load the data, and provide some overview and visualisation of the statistics over the total population of 652 subjects. The data will be split into different subsets to be used for different parts of the coursework. There is a set of 52 subjects to be used in part A to develop an image segmentation method (47 for training, 5 for validation). We then use 500 subjects for training and cross-validation of age regression approaches in part A, B and C. A remaining set of 100 subjects is used to test the final age prediction accuracy and will be made available towards the end of the coursework."
   ]
  },
  {
   "cell_type": "markdown",
   "metadata": {},
   "source": [
    "### Running on Colab or Azure"
   ]
  },
  {
   "cell_type": "code",
   "execution_count": 67,
   "metadata": {},
   "outputs": [],
   "source": [
    "# ! python3 -m pip install SimpleITK==1.2.2 \n",
    "# ! wget https://www.doc.ic.ac.uk/~bglocker/teaching/notebooks/brainage-data.zip\n",
    "# ! unzip brainage-data.zip\n",
    "\n",
    "# data directory\n",
    "data_dir = './gm_volume3d/'"
   ]
  },
  {
   "cell_type": "markdown",
   "metadata": {},
   "source": [
    "### Running on DoC lab machines"
   ]
  },
  {
   "cell_type": "code",
   "execution_count": 24,
   "metadata": {},
   "outputs": [],
   "source": [
    "# data directory\n",
    "data_dir = '/vol/lab/course/416/data/brain_age/'\n",
    "data_dir = '/Users/brandelt/data/brain_age/'"
   ]
  },
  {
   "cell_type": "markdown",
   "metadata": {},
   "source": [
    "Let's start by loading the meta data of the entire population, that is the data containing information about the subject IDs, their age, and gender."
   ]
  },
  {
   "cell_type": "code",
   "execution_count": 25,
   "metadata": {},
   "outputs": [
    {
     "data": {
      "text/html": [
       "<div>\n",
       "<style scoped>\n",
       "    .dataframe tbody tr th:only-of-type {\n",
       "        vertical-align: middle;\n",
       "    }\n",
       "\n",
       "    .dataframe tbody tr th {\n",
       "        vertical-align: top;\n",
       "    }\n",
       "\n",
       "    .dataframe thead th {\n",
       "        text-align: right;\n",
       "    }\n",
       "</style>\n",
       "<table border=\"1\" class=\"dataframe\">\n",
       "  <thead>\n",
       "    <tr style=\"text-align: right;\">\n",
       "      <th></th>\n",
       "      <th>subject_id</th>\n",
       "      <th>age</th>\n",
       "      <th>gender_code</th>\n",
       "      <th>gender_text</th>\n",
       "    </tr>\n",
       "  </thead>\n",
       "  <tbody>\n",
       "    <tr>\n",
       "      <th>0</th>\n",
       "      <td>CC110033</td>\n",
       "      <td>24</td>\n",
       "      <td>1</td>\n",
       "      <td>MALE</td>\n",
       "    </tr>\n",
       "    <tr>\n",
       "      <th>1</th>\n",
       "      <td>CC110037</td>\n",
       "      <td>18</td>\n",
       "      <td>1</td>\n",
       "      <td>MALE</td>\n",
       "    </tr>\n",
       "    <tr>\n",
       "      <th>2</th>\n",
       "      <td>CC110045</td>\n",
       "      <td>24</td>\n",
       "      <td>2</td>\n",
       "      <td>FEMALE</td>\n",
       "    </tr>\n",
       "    <tr>\n",
       "      <th>3</th>\n",
       "      <td>CC110056</td>\n",
       "      <td>22</td>\n",
       "      <td>2</td>\n",
       "      <td>FEMALE</td>\n",
       "    </tr>\n",
       "    <tr>\n",
       "      <th>4</th>\n",
       "      <td>CC110062</td>\n",
       "      <td>20</td>\n",
       "      <td>1</td>\n",
       "      <td>MALE</td>\n",
       "    </tr>\n",
       "  </tbody>\n",
       "</table>\n",
       "</div>"
      ],
      "text/plain": [
       "  subject_id  age  gender_code gender_text\n",
       "0   CC110033   24            1        MALE\n",
       "1   CC110037   18            1        MALE\n",
       "2   CC110045   24            2      FEMALE\n",
       "3   CC110056   22            2      FEMALE\n",
       "4   CC110062   20            1        MALE"
      ]
     },
     "execution_count": 25,
     "metadata": {},
     "output_type": "execute_result"
    }
   ],
   "source": [
    "# Read the meta data using pandas\n",
    "import pandas as pd\n",
    "\n",
    "meta_data_all = pd.read_csv(data_dir + 'meta/meta_data_all.csv')\n",
    "meta_data_all.head() # show the first five data entries"
   ]
  },
  {
   "cell_type": "markdown",
   "metadata": {},
   "source": [
    "Let's have a look at some population statistics."
   ]
  },
  {
   "cell_type": "code",
   "execution_count": 68,
   "metadata": {
    "scrolled": false
   },
   "outputs": [
    {
     "ename": "NameError",
     "evalue": "name 'meta_data_all' is not defined",
     "output_type": "error",
     "traceback": [
      "\u001b[0;31m---------------------------------------------------------------------------\u001b[0m",
      "\u001b[0;31mNameError\u001b[0m                                 Traceback (most recent call last)",
      "\u001b[0;32m<ipython-input-68-3bf90b78a0b7>\u001b[0m in \u001b[0;36m<module>\u001b[0;34m\u001b[0m\n\u001b[1;32m      4\u001b[0m \u001b[0;32mimport\u001b[0m \u001b[0mseaborn\u001b[0m \u001b[0;32mas\u001b[0m \u001b[0msns\u001b[0m\u001b[0;34m\u001b[0m\u001b[0;34m\u001b[0m\u001b[0m\n\u001b[1;32m      5\u001b[0m \u001b[0;34m\u001b[0m\u001b[0m\n\u001b[0;32m----> 6\u001b[0;31m \u001b[0mmeta_data\u001b[0m \u001b[0;34m=\u001b[0m \u001b[0mmeta_data_all\u001b[0m\u001b[0;34m\u001b[0m\u001b[0;34m\u001b[0m\u001b[0m\n\u001b[0m\u001b[1;32m      7\u001b[0m \u001b[0;34m\u001b[0m\u001b[0m\n\u001b[1;32m      8\u001b[0m \u001b[0msns\u001b[0m\u001b[0;34m.\u001b[0m\u001b[0mcatplot\u001b[0m\u001b[0;34m(\u001b[0m\u001b[0mx\u001b[0m\u001b[0;34m=\u001b[0m\u001b[0;34m\"gender_text\"\u001b[0m\u001b[0;34m,\u001b[0m \u001b[0mdata\u001b[0m\u001b[0;34m=\u001b[0m\u001b[0mmeta_data\u001b[0m\u001b[0;34m,\u001b[0m \u001b[0mkind\u001b[0m\u001b[0;34m=\u001b[0m\u001b[0;34m\"count\"\u001b[0m\u001b[0;34m)\u001b[0m\u001b[0;34m\u001b[0m\u001b[0;34m\u001b[0m\u001b[0m\n",
      "\u001b[0;31mNameError\u001b[0m: name 'meta_data_all' is not defined"
     ]
    }
   ],
   "source": [
    "%matplotlib inline\n",
    "\n",
    "import matplotlib.pyplot as plt\n",
    "import seaborn as sns\n",
    "\n",
    "meta_data = meta_data_all\n",
    "\n",
    "sns.catplot(x=\"gender_text\", data=meta_data, kind=\"count\")\n",
    "plt.title('Gender distribution')\n",
    "plt.xlabel('Gender')\n",
    "plt.show()\n",
    "\n",
    "sns.distplot(meta_data['age'], bins=[10,20,30,40,50,60,70,80,90])\n",
    "plt.title('Age distribution')\n",
    "plt.xlabel('Age')\n",
    "plt.show()\n",
    "\n",
    "plt.scatter(range(len(meta_data['age'])),meta_data['age'], marker='.')\n",
    "plt.grid()\n",
    "plt.xlabel('Subject')\n",
    "plt.ylabel('Age')\n",
    "plt.show()"
   ]
  },
  {
   "cell_type": "markdown",
   "metadata": {},
   "source": [
    "### Set up a simple medical image viewer and import SimpleITK"
   ]
  },
  {
   "cell_type": "code",
   "execution_count": 69,
   "metadata": {},
   "outputs": [],
   "source": [
    "import numpy as np\n",
    "import SimpleITK as sitk\n",
    "import matplotlib.pyplot as plt\n",
    "\n",
    "from ipywidgets import interact, fixed\n",
    "from IPython.display import display\n",
    "\n",
    "# Calculate parameters low and high from window and level\n",
    "def wl_to_lh(window, level):\n",
    "    low = level - window/2\n",
    "    high = level + window/2\n",
    "    return low,high\n",
    "\n",
    "def display_image(img, x=None, y=None, z=None, window=None, level=None, colormap='gray', crosshair=False):\n",
    "    # Convert SimpleITK image to NumPy array\n",
    "    img_array = sitk.GetArrayFromImage(img)\n",
    "    \n",
    "    # Get image dimensions in millimetres\n",
    "    size = img.GetSize()\n",
    "    spacing = img.GetSpacing()\n",
    "    width  = size[0] * spacing[0]\n",
    "    height = size[1] * spacing[1]\n",
    "    depth  = size[2] * spacing[2]\n",
    "    \n",
    "    if x is None:\n",
    "        x = np.floor(size[0]/2).astype(int)\n",
    "    if y is None:\n",
    "        y = np.floor(size[1]/2).astype(int)\n",
    "    if z is None:\n",
    "        z = np.floor(size[2]/2).astype(int)\n",
    "    \n",
    "    if window is None:\n",
    "        window = np.max(img_array) - np.min(img_array)\n",
    "    \n",
    "    if level is None:\n",
    "        level = window / 2 + np.min(img_array)\n",
    "    \n",
    "    low,high = wl_to_lh(window,level)\n",
    "\n",
    "    # Display the orthogonal slices\n",
    "    fig, (ax1, ax2, ax3) = plt.subplots(1, 3, figsize=(10, 4))\n",
    "\n",
    "    ax1.imshow(img_array[z,:,:], cmap=colormap, clim=(low, high), extent=(0, width, height, 0))\n",
    "    ax2.imshow(img_array[:,y,:], origin='lower', cmap=colormap, clim=(low, high), extent=(0, width,  0, depth))\n",
    "    ax3.imshow(img_array[:,:,x], origin='lower', cmap=colormap, clim=(low, high), extent=(0, height, 0, depth))\n",
    "\n",
    "    # Additionally display crosshairs\n",
    "    if crosshair:\n",
    "        ax1.axhline(y * spacing[1], lw=1)\n",
    "        ax1.axvline(x * spacing[0], lw=1)\n",
    "        ax2.axhline(z * spacing[2], lw=1)\n",
    "        ax2.axvline(x * spacing[0], lw=1)\n",
    "        ax3.axhline(z * spacing[2], lw=1)\n",
    "        ax3.axvline(y * spacing[1], lw=1)\n",
    "\n",
    "    plt.show()\n",
    "    \n",
    "def interactive_view(img):\n",
    "    size = img.GetSize() \n",
    "    img_array = sitk.GetArrayFromImage(img)\n",
    "    interact(display_image,img=fixed(img),\n",
    "             x=(0, size[0] - 1),\n",
    "             y=(0, size[1] - 1),\n",
    "             z=(0, size[2] - 1),\n",
    "             window=(0,np.max(img_array) - np.min(img_array)),\n",
    "             level=(np.min(img_array),np.max(img_array)));"
   ]
  },
  {
   "cell_type": "markdown",
   "metadata": {},
   "source": [
    "### Imaging data\n",
    "\n",
    "Let's check out the imaging data that is available for each subject. This cell also shows how to retrieve data given a particular subject ID from the meta data."
   ]
  },
  {
   "cell_type": "code",
   "execution_count": 28,
   "metadata": {},
   "outputs": [
    {
     "name": "stdout",
     "output_type": "stream",
     "text": [
      "Imaging data of subject CC110033 with age 24\n",
      "\n",
      "MR Image (used in part A)\n"
     ]
    },
    {
     "data": {
      "image/png": "[encoded data removed]",
      "text/plain": [
       "<Figure size 720x288 with 3 Axes>"
      ]
     },
     "metadata": {
      "needs_background": "light"
     },
     "output_type": "display_data"
    },
    {
     "name": "stdout",
     "output_type": "stream",
     "text": [
      "Brain mask (used in part A)\n"
     ]
    },
    {
     "data": {
      "image/png": "[encoded data removed]",
      "text/plain": [
       "<Figure size 720x288 with 3 Axes>"
      ]
     },
     "metadata": {
      "needs_background": "light"
     },
     "output_type": "display_data"
    },
    {
     "name": "stdout",
     "output_type": "stream",
     "text": [
      "Spatially normalised grey matter maps (used in part B and C)\n"
     ]
    },
    {
     "data": {
      "image/png": "[encoded data removed]",
      "text/plain": [
       "<Figure size 720x288 with 3 Axes>"
      ]
     },
     "metadata": {
      "needs_background": "light"
     },
     "output_type": "display_data"
    }
   ],
   "source": [
    "# Subject with index 0\n",
    "ID = meta_data['subject_id'][0]\n",
    "age = meta_data['age'][0]\n",
    "\n",
    "# Image\n",
    "image_filename = data_dir + 'images/sub-' + ID + '_T1w_unbiased.nii.gz'\n",
    "img = sitk.ReadImage(image_filename)\n",
    "\n",
    "# Mask\n",
    "mask_filename = data_dir + 'masks/sub-' + ID + '_T1w_brain_mask.nii.gz'\n",
    "msk = sitk.ReadImage(mask_filename)\n",
    "\n",
    "# Grey matter map\n",
    "gm_filename = data_dir + 'greymatter/wc1sub-' + ID + '_T1w.nii.gz'\n",
    "gm = sitk.ReadImage(gm_filename)\n",
    "\n",
    "print('Imaging data of subject ' + ID + ' with age ' + str(age))\n",
    "\n",
    "print('\\nMR Image (used in part A)')\n",
    "display_image(img, window=400, level=200)\n",
    "\n",
    "print('Brain mask (used in part A)')\n",
    "display_image(msk)\n",
    "\n",
    "print('Spatially normalised grey matter maps (used in part B and C)')\n",
    "display_image(gm)"
   ]
  },
  {
   "cell_type": "markdown",
   "metadata": {},
   "source": [
    "## Part A: Volume-based regression using brain structure segmentation\n",
    "\n",
    "The first approach aims to regress the age of a subject using the volumes of brain tissues as features. The brain structures include grey matter (GM), white matter (WM), and cerebrospinal fluid (CSF). It is known that with increasing age the ventricles enlarge (filled with CSF), while it is assumed that grey and white matter volume may decrease over time. However, as overall brain volume varies across individuals, taking the absolute volumes of tissues might not be predictive. Instead, relative volumes need to be computed as the ratios between each tissue volume and overall brain volume. To this end, a four-class (GM, WM, CSF, and background) brain segmentation needs to be implemented which will be trained using a total of 52 subjects (47 for training, 5 for validation). The segmentation method is then applied to the remaining 600 brain scans which will be used to train and test the age regression. Brain masks are provided which have been generated with a state-of-the-art neuroimaging brain extraction tool.\n",
    "\n",
    "Different regression techniques should be explored, and it might be beneficial to investigate what the best set of features is for this task. Are all volume features equally useful, or is it even better to combine some of them and create new features. How does a simple linear regression perform compared to a model with higher order polynomials? Do you need regularisation? How about other regression methods such as regression trees, SVMs or neural networks? The accuracy of different methods should be evaluated using two-fold cross-validation on the set of 500 subjects, and average age prediction accuracy should be compared and reported appropriately. The final prediction accuracy will be evaluated on a hold-out set of 100 subjects.\n",
    "\n",
    "*Note:* For part A, only the MR images and the brain masks should be used from the imaging data. The spatially normalised grey matter maps are used in part B and C only. If you struggle with task A-1, you can continue with A-2 using the provided reference segmentations in subfolder `segs_refs`."
   ]
  },
  {
   "cell_type": "markdown",
   "metadata": {},
   "source": [
    "### TASK A-1: Brain tissue segmentation\n",
    "\n",
    "Implement a CNN model for brain tissue segmentation which can provide segmentations of GM, WM, and CSF. For this task (and only for this task), we provide a subset of 52 subjects which are split into 47 images for training and 5 for validation. The template code below has the data handling and main training routines already implemented, so you can focus on implementing a suitable CNN model. A simple model is provided, but this won't perform very well.\n",
    "\n",
    "Once your model is trained and you are happy with the results on the validation data you should apply it to the 500 subjects later used for training the age regressor. We provide reference segmentations in a subfolder `segs_refs` for all subjects. Calculate Dice similarity coefficients per tissue when comparing your predicted segmentations to the reference segmentations. Summarise the statistics of the 500 Dice scores for each tissue class in [box-and-whisker-plots](https://matplotlib.org/api/_as_gen/matplotlib.pyplot.boxplot.html).\n",
    "\n",
    "*Note:* Implementing a full-fledged machine learning pipeline with training and testing procedures in Jupyter notebooks is a bit cumbersome and a pain to debug. Also, running bigger training tasks can be unstable. The code below should work as is on your VM. However, if you want to get a bit more serious about implementing an advanced CNN approach for image segmentation, you may want to move code into separate Python scripts and run these from the terminal."
   ]
  },
  {
   "cell_type": "markdown",
   "metadata": {},
   "source": [
    "#### Imports"
   ]
  },
  {
   "cell_type": "code",
   "execution_count": 70,
   "metadata": {},
   "outputs": [],
   "source": [
    "import os\n",
    "import torch\n",
    "import torch.nn as nn\n",
    "import torch.nn.functional as F\n",
    "from torch.utils.data import Dataset, DataLoader\n",
    "from tqdm import tqdm"
   ]
  },
  {
   "cell_type": "markdown",
   "metadata": {},
   "source": [
    "#### Data Helpers"
   ]
  },
  {
   "cell_type": "code",
   "execution_count": 71,
   "metadata": {},
   "outputs": [],
   "source": [
    "def zero_mean_unit_var(image, mask):\n",
    "    \"\"\"Normalizes an image to zero mean and unit variance.\"\"\"\n",
    "\n",
    "    img_array = sitk.GetArrayFromImage(image)\n",
    "    img_array = img_array.astype(np.float32)\n",
    "\n",
    "    msk_array = sitk.GetArrayFromImage(mask)\n",
    "\n",
    "    mean = np.mean(img_array[msk_array>0])\n",
    "    std = np.std(img_array[msk_array>0])\n",
    "\n",
    "    if std > 0:\n",
    "        img_array = (img_array - mean) / std\n",
    "        img_array[msk_array==0] = 0\n",
    "\n",
    "    image_normalised = sitk.GetImageFromArray(img_array)\n",
    "    image_normalised.CopyInformation(image)\n",
    "\n",
    "    return image_normalised\n",
    "\n",
    "\n",
    "def resample_image(image, out_spacing=(1.0, 1.0, 1.0), out_size=None, is_label=False, pad_value=0):\n",
    "    \"\"\"Resamples an image to given element spacing and output size.\"\"\"\n",
    "\n",
    "    original_spacing = np.array(image.GetSpacing())\n",
    "    original_size = np.array(image.GetSize())\n",
    "\n",
    "    if out_size is None:\n",
    "        out_size = np.round(np.array(original_size * original_spacing / np.array(out_spacing))).astype(int)\n",
    "    else:\n",
    "        out_size = np.array(out_size)\n",
    "\n",
    "    original_direction = np.array(image.GetDirection()).reshape(len(original_spacing),-1)\n",
    "    original_center = (np.array(original_size, dtype=float) - 1.0) / 2.0 * original_spacing\n",
    "    out_center = (np.array(out_size, dtype=float) - 1.0) / 2.0 * np.array(out_spacing)\n",
    "\n",
    "    original_center = np.matmul(original_direction, original_center)\n",
    "    out_center = np.matmul(original_direction, out_center)\n",
    "    out_origin = np.array(image.GetOrigin()) + (original_center - out_center)\n",
    "\n",
    "    resample = sitk.ResampleImageFilter()\n",
    "    resample.SetOutputSpacing(out_spacing)\n",
    "    resample.SetSize(out_size.tolist())\n",
    "    resample.SetOutputDirection(image.GetDirection())\n",
    "    resample.SetOutputOrigin(out_origin.tolist())\n",
    "    resample.SetTransform(sitk.Transform())\n",
    "    resample.SetDefaultPixelValue(pad_value)\n",
    "\n",
    "    if is_label:\n",
    "        resample.SetInterpolator(sitk.sitkNearestNeighbor)\n",
    "    else:\n",
    "        resample.SetInterpolator(sitk.sitkBSpline)\n",
    "\n",
    "    return resample.Execute(image)\n",
    "\n",
    "\n",
    "class ImageSegmentationDataset(Dataset):\n",
    "    \"\"\"Dataset for image segmentation.\"\"\"\n",
    "\n",
    "    def __init__(self, file_list_img, file_list_seg, file_list_msk, img_spacing, img_size):\n",
    "        self.samples = []\n",
    "        self.img_names = []\n",
    "        self.seg_names = []\n",
    "        for idx, _ in enumerate(tqdm(range(len(file_list_img)), desc='Loading Data')):\n",
    "            img_path = file_list_img[idx]\n",
    "            seg_path = file_list_seg[idx]\n",
    "            msk_path = file_list_msk[idx]\n",
    "\n",
    "            img = sitk.ReadImage(img_path, sitk.sitkFloat32)\n",
    "\n",
    "            seg = sitk.ReadImage(seg_path, sitk.sitkInt64)\n",
    "\n",
    "            msk = sitk.ReadImage(msk_path, sitk.sitkUInt8)\n",
    "\n",
    "            #pre=processing\n",
    "            img = zero_mean_unit_var(img, msk)\n",
    "            img = resample_image(img, img_spacing, img_size, is_label=False)\n",
    "            seg = resample_image(seg, img_spacing, img_size, is_label=True)\n",
    "            msk = resample_image(msk, img_spacing, img_size, is_label=True)\n",
    "\n",
    "            sample = {'img': img, 'seg': seg, 'msk': msk}\n",
    "\n",
    "            self.samples.append(sample)\n",
    "            self.img_names.append(os.path.basename(img_path))\n",
    "            self.seg_names.append(os.path.basename(seg_path))\n",
    "\n",
    "    def __len__(self):\n",
    "        return len(self.samples)\n",
    "\n",
    "    def __getitem__(self, item):\n",
    "        sample = self.samples[item]\n",
    "\n",
    "        image = torch.from_numpy(sitk.GetArrayFromImage(sample['img'])).unsqueeze(0)\n",
    "        seg = torch.from_numpy(sitk.GetArrayFromImage(sample['seg'])).unsqueeze(0)\n",
    "        msk = torch.from_numpy(sitk.GetArrayFromImage(sample['msk'])).unsqueeze(0)\n",
    "\n",
    "        return {'img': image, 'seg': seg, 'msk': msk}\n",
    "\n",
    "    def get_sample(self, item):\n",
    "        return self.samples[item]\n",
    "\n",
    "    def get_img_name(self, item):\n",
    "        return self.img_names[item]\n",
    "\n",
    "    def get_seg_name(self, item):\n",
    "        return self.seg_names[item]\n"
   ]
  },
  {
   "cell_type": "markdown",
   "metadata": {},
   "source": [
    "#### Check that the GPU is up and running"
   ]
  },
  {
   "cell_type": "code",
   "execution_count": 31,
   "metadata": {},
   "outputs": [
    {
     "name": "stdout",
     "output_type": "stream",
     "text": [
      "Device: cpu\n"
     ]
    }
   ],
   "source": [
    "cuda_dev = '0' #GPU device 0 (can be changed if multiple GPUs are available)\n",
    "\n",
    "use_cuda = torch.cuda.is_available()\n",
    "device = torch.device(\"cuda:\" + cuda_dev if use_cuda else \"cpu\")\n",
    "\n",
    "print('Device: ' + str(device))\n",
    "if use_cuda:\n",
    "    print('GPU: ' + str(torch.cuda.get_device_name(int(cuda_dev))))        "
   ]
  },
  {
   "cell_type": "markdown",
   "metadata": {},
   "source": [
    "#### Config and hyper-parameters\n",
    "\n",
    "Here we set some default hyper-parameters and a starting configuration for the image resolution and others.\n",
    "\n",
    "**TASK: This needs to be revisited to optimise these values. In particular, you may want to run your final model on higher resolution images.**"
   ]
  },
  {
   "cell_type": "code",
   "execution_count": 10,
   "metadata": {},
   "outputs": [],
   "source": [
    "rnd_seed = 42 #fixed random seed\n",
    "\n",
    "img_size = [64, 64, 64]\n",
    "img_spacing = [3, 3, 3]\n",
    "\n",
    "num_epochs = 100\n",
    "learning_rate = 0.001\n",
    "batch_size = 2\n",
    "val_interval = 10\n",
    "\n",
    "num_classes = 4\n",
    "\n",
    "out_dir = './output'\n",
    "\n",
    "# Create output directory\n",
    "if not os.path.exists(out_dir):\n",
    "    os.makedirs(out_dir)"
   ]
  },
  {
   "cell_type": "markdown",
   "metadata": {},
   "source": [
    "#### Loading and pre-processing of training and validation data"
   ]
  },
  {
   "cell_type": "code",
   "execution_count": 11,
   "metadata": {},
   "outputs": [],
   "source": [
    "meta_data_seg_train = pd.read_csv(data_dir + 'meta/meta_data_seg_train.csv')\n",
    "ids_seg_train = list(meta_data_seg_train['subject_id'])\n",
    "files_seg_img_train = [data_dir + 'images/sub-' + f + '_T1w_unbiased.nii.gz' for f in ids_seg_train]\n",
    "files_seg_seg_train = [data_dir + 'segs_refs/sub-' + f + '_T1w_seg.nii.gz' for f in ids_seg_train]\n",
    "files_seg_msk_train = [data_dir + 'masks/sub-' + f + '_T1w_brain_mask.nii.gz' for f in ids_seg_train]\n",
    "\n",
    "meta_data_seg_val = pd.read_csv(data_dir + 'meta/meta_data_seg_val.csv')\n",
    "ids_seg_val = list(meta_data_seg_val['subject_id'])\n",
    "files_seg_img_val = [data_dir + 'images/sub-' + f + '_T1w_unbiased.nii.gz' for f in ids_seg_val]\n",
    "files_seg_seg_val = [data_dir + 'segs_refs/sub-' + f + '_T1w_seg.nii.gz' for f in ids_seg_val]\n",
    "files_seg_msk_val = [data_dir + 'masks/sub-' + f + '_T1w_brain_mask.nii.gz' for f in ids_seg_val]"
   ]
  },
  {
   "cell_type": "markdown",
   "metadata": {},
   "source": [
    "We apply some standard pre-processing on the data such as intensity normalization (zero mean unit variance) and downsampling according to the configuration above.\n",
    "\n",
    "**You may want to use initially the validation data with 5 subjects for training which is more efficient when debugging your training routine and model implementation. Make sure to later train your final model on the actual training data.**"
   ]
  },
  {
   "cell_type": "code",
   "execution_count": null,
   "metadata": {},
   "outputs": [],
   "source": [
    "# LOAD ACTUAL TRAINING DATA\n",
    "#dataset_train = ImageSegmentationDataset(files_seg_img_train, files_seg_seg_train, files_seg_msk_train, img_spacing, img_size)\n",
    "# LOAD VALIDATION DATA AS TRAINING FOR QUICK DEBUGGING\n",
    "dataset_train = ImageSegmentationDataset(files_seg_img_val, files_seg_seg_val, files_seg_msk_val, img_spacing, img_size)\n",
    "dataloader_train = torch.utils.data.DataLoader(dataset_train, batch_size=batch_size, shuffle=True)\n",
    "\n",
    "dataset_val = ImageSegmentationDataset(files_seg_img_val, files_seg_seg_val, files_seg_msk_val, img_spacing, img_size)\n",
    "dataloader_val = torch.utils.data.DataLoader(dataset_val, batch_size=1, shuffle=False)"
   ]
  },
  {
   "cell_type": "markdown",
   "metadata": {},
   "source": [
    "#### Visualise training example\n",
    "\n",
    "Just to check how a training image looks like after pre-processing."
   ]
  },
  {
   "cell_type": "code",
   "execution_count": null,
   "metadata": {},
   "outputs": [],
   "source": [
    "sample = dataset_train.get_sample(0)\n",
    "print(sample['img'])\n",
    "img_name = dataset_train.get_img_name(0)\n",
    "seg_name = dataset_train.get_seg_name(0)\n",
    "print('Image: ' + img_name)\n",
    "display_image(sample['img'], window=5, level=0)\n",
    "print('Segmentation')\n",
    "display_image(sitk.LabelToRGB(sample['seg']))\n",
    "print('Mask')\n",
    "display_image(sample['msk'])"
   ]
  },
  {
   "cell_type": "markdown",
   "metadata": {},
   "source": [
    "#### The Model\n",
    "\n",
    "**TASK:** This is the **key part of task A-1** where you have to design a suitable CNN model for brain segmentation. The simple model provided below works to some degree (it let's you run through the upcoming cells), but it will not perform very well. Use what you learned in the lectures to come up with a good architecture. Start with a simple, shallow model and only increase complexity (e.g., number of layers) if needed."
   ]
  },
  {
   "cell_type": "code",
   "execution_count": null,
   "metadata": {},
   "outputs": [],
   "source": [
    "########################################\n",
    "# BUILD A BETTER MODEL HERE\n",
    "########################################\n",
    "\n",
    "class SimpleNet3D(nn.Module):\n",
    "\n",
    "    def __init__(self, num_classes):\n",
    "        super(SimpleNet3D, self).__init__()\n",
    "        self.conv1 = nn.Conv3d(1, 4, kernel_size=3, padding=1)\n",
    "        self.conv2 = nn.Conv3d(4, 8, kernel_size=3, padding=1)\n",
    "        self.conv3 = nn.Conv3d(8, 4, kernel_size=3, padding=1)\n",
    "        self.conv4 = nn.Conv3d(4, num_classes, kernel_size=3, padding=1)\n",
    "\n",
    "    def forward(self, x):\n",
    "        x = F.relu(self.conv1(x))\n",
    "        x = F.relu(self.conv2(x))\n",
    "        x = F.relu(self.conv3(x))\n",
    "        x = self.conv4(x)\n",
    "        return F.softmax(x, dim=1)"
   ]
  },
  {
   "cell_type": "markdown",
   "metadata": {},
   "source": [
    "#### TRAINING\n",
    "\n",
    "Below is an implementation of a full training procedure including a loop for intermediate evaluation of the model on the validation data. Feel free to modify this procedure. For example, in addition to the loss you may want to monitor precision, recall and Dice scores (or others)."
   ]
  },
  {
   "cell_type": "code",
   "execution_count": null,
   "metadata": {
    "scrolled": true
   },
   "outputs": [],
   "source": [
    "model_dir = os.path.join(out_dir, 'model')\n",
    "if not os.path.exists(model_dir):\n",
    "    os.makedirs(model_dir)\n",
    "\n",
    "torch.manual_seed(rnd_seed) #fix random seed\n",
    "\n",
    "model = SimpleNet3D(num_classes=num_classes).to(device)\n",
    "model.train()\n",
    "    \n",
    "optimizer = torch.optim.Adam(model.parameters(), lr=learning_rate)\n",
    "\n",
    "loss_train_log = []\n",
    "loss_val_log = []\n",
    "epoch_val_log = []\n",
    "    \n",
    "print('START TRAINING...')\n",
    "for epoch in range(1, num_epochs + 1):\n",
    "\n",
    "    # Training\n",
    "    for batch_idx, batch_samples in enumerate(dataloader_train):\n",
    "        img, seg = batch_samples['img'].to(device), batch_samples['seg'].to(device)\n",
    "        optimizer.zero_grad()\n",
    "        prd = model(img)\n",
    "        prd_flat = prd.view(prd.size(0), prd.size(1), -1)\n",
    "        seg_flat = seg.view(seg.size(0), seg.size(1), -1)\n",
    "        loss = F.cross_entropy(prd_flat, seg_flat.squeeze(1))\n",
    "        loss.backward()\n",
    "        optimizer.step()\n",
    "\n",
    "    loss_train_log.append(loss.item())\n",
    "\n",
    "    print('+ TRAINING \\tEpoch: {} \\tLoss: {:.6f}'.format(epoch, loss.item()))\n",
    "    \n",
    "    # Validation\n",
    "    if epoch == 1 or epoch % val_interval == 0:\n",
    "        loss_val = 0\n",
    "        sum_pts = 0\n",
    "        with torch.no_grad():\n",
    "            for data_sample in dataloader_val:\n",
    "                img, seg = data_sample['img'].to(device), data_sample['seg'].to(device)\n",
    "                prd = model(img)\n",
    "                prd_flat = prd.view(prd.size(0), prd.size(1), -1)\n",
    "                seg_flat = seg.view(seg.size(0), seg.size(1), -1)\n",
    "                loss_val += F.cross_entropy(prd_flat, seg_flat.squeeze(1), reduction='sum').item()\n",
    "                sum_pts += seg_flat.size(2)\n",
    "                \n",
    "        prd = torch.argmax(prd, dim=1)\n",
    "        prediction = sitk.GetImageFromArray(prd.cpu().squeeze().numpy().astype(np.uint8))\n",
    "        \n",
    "\n",
    "        loss_val /= sum_pts\n",
    "\n",
    "        loss_val_log.append(loss_val)\n",
    "        epoch_val_log.append(epoch)\n",
    "\n",
    "        print('--------------------------------------------------')\n",
    "        print('+ VALIDATE \\tEpoch: {} \\tLoss: {:.6f}'.format(epoch, loss_val))\n",
    "        display_image(sitk.LabelToRGB(prediction))\n",
    "        print('--------------------------------------------------')\n",
    "\n",
    "torch.save(model.state_dict(), os.path.join(model_dir, 'model.pt'))\n",
    "\n",
    "print('\\nFinished TRAINING.')\n",
    "\n",
    "plt.plot(range(1, num_epochs + 1), loss_train_log, c='r', label='train')\n",
    "plt.plot(epoch_val_log, loss_val_log, c='b', label='val')\n",
    "plt.legend(loc='upper right')\n",
    "plt.xlabel('epoch')\n",
    "plt.ylabel('loss')\n",
    "plt.show()"
   ]
  },
  {
   "cell_type": "markdown",
   "metadata": {},
   "source": [
    "#### Loading and pre-processing of testing data\n",
    "\n",
    "Now that we have trained a model, the next cells are about applying that model to the 500 subjects that are used for training the age regressor. Note, at a later stage you will also need to run the model on the 100 subjects from the hold-out set, once these have been made available. Before testing on the full set, you may want to initially just test on the 5 validation subjects to check everything is working fine."
   ]
  },
  {
   "cell_type": "code",
   "execution_count": null,
   "metadata": {},
   "outputs": [],
   "source": [
    "meta_data_reg_train = pd.read_csv(data_dir + 'meta/meta_data_reg_train.csv')\n",
    "ids_seg_test = list(meta_data_reg_train['subject_id'])\n",
    "files_seg_img_test = [data_dir + 'images/sub-' + f + '_T1w_unbiased.nii.gz' for f in ids_seg_test]\n",
    "files_seg_seg_test = [data_dir + 'segs_refs/sub-' + f + '_T1w_seg.nii.gz' for f in ids_seg_test]\n",
    "files_seg_msk_test = [data_dir + 'masks/sub-' + f + '_T1w_brain_mask.nii.gz' for f in ids_seg_test]\n",
    "\n",
    "dataset_test = ImageSegmentationDataset(files_seg_img_test, files_seg_seg_test, files_seg_msk_test, img_spacing, img_size)\n",
    "dataloader_test = torch.utils.data.DataLoader(dataset_test, batch_size=1, shuffle=False)"
   ]
  },
  {
   "cell_type": "markdown",
   "metadata": {},
   "source": [
    "#### Visualise testing example\n",
    "\n",
    "Just to check how a testing image looks like after pre-processing."
   ]
  },
  {
   "cell_type": "code",
   "execution_count": null,
   "metadata": {},
   "outputs": [],
   "source": [
    "sample = dataset_test.get_sample(0)\n",
    "img_name = dataset_test.get_img_name(0)\n",
    "seg_name = dataset_test.get_seg_name(0)\n",
    "print('Image: ' + img_name)\n",
    "display_image(sample['img'], window=5, level=0)\n",
    "print('Segmentation')\n",
    "display_image(sitk.LabelToRGB(sample['seg']))\n",
    "print('Mask')\n",
    "display_image(sample['msk'])"
   ]
  },
  {
   "cell_type": "markdown",
   "metadata": {},
   "source": [
    "#### TESTING\n",
    "\n",
    "Below is an implementation of a full testing procedure that saves the segmentations in an output folder. Feel free to modify this procedure.\n",
    "\n",
    "**TASK: You will need to add the calculations of Dice scores (and possibly others) to evaluate the segmentation performance.**"
   ]
  },
  {
   "cell_type": "code",
   "execution_count": null,
   "metadata": {
    "scrolled": true
   },
   "outputs": [],
   "source": [
    "pred_dir = os.path.join(out_dir, 'pred')\n",
    "if not os.path.exists(pred_dir):\n",
    "    os.makedirs(pred_dir)\n",
    "\n",
    "model = SimpleNet3D(num_classes=num_classes)\n",
    "model.load_state_dict(torch.load(os.path.join(model_dir, 'model.pt')))\n",
    "model.to(device)\n",
    "model.eval()\n",
    "    \n",
    "print('START TESTING...')\n",
    "\n",
    "loss_test = 0\n",
    "sum_pts = 0\n",
    "idx_test = 0\n",
    "with torch.no_grad():\n",
    "    for data_sample in dataloader_test:\n",
    "        img, seg = data_sample['img'].to(device), data_sample['seg'].to(device)\n",
    "        prd = model(img)\n",
    "        prd_flat = prd.view(prd.size(0), prd.size(1), -1)\n",
    "        seg_flat = seg.view(seg.size(0), seg.size(1), -1)\n",
    "        loss_test += F.cross_entropy(prd_flat, seg_flat.squeeze(1), reduction='sum').item()\n",
    "        sum_pts += seg_flat.size(2)        \n",
    "        \n",
    "        prd = torch.argmax(prd, dim=1)\n",
    "\n",
    "        sample = dataset_test.get_sample(idx_test)\n",
    "        name = dataset_test.get_seg_name(idx_test)\n",
    "        prediction = sitk.GetImageFromArray(prd.cpu().squeeze().numpy().astype(np.uint8))\n",
    "        prediction.CopyInformation(sample['seg'])\n",
    "        sitk.WriteImage(prediction, os.path.join(pred_dir, name))\n",
    "        \n",
    "        idx_test += 1\n",
    "        \n",
    "loss_test /= sum_pts\n",
    "\n",
    "print('+ TESTING \\tLoss: {:.6f}'.format(loss_test))\n",
    "\n",
    "# Show last testing sample as an example\n",
    "print('\\n\\nReference segmentation')\n",
    "display_image(sitk.LabelToRGB(sample['seg']))\n",
    "print('Predicted segmentation')\n",
    "display_image(sitk.LabelToRGB(prediction))\n",
    "\n",
    "print('\\nFinished TESTING.')"
   ]
  },
  {
   "cell_type": "markdown",
   "metadata": {},
   "source": [
    "### TASK A-2: Feature calculation\n",
    "\n",
    "Start by calculating the three absolute tissue volumes for each subject. Plot the volumes against the subjects' ages. Taking the absolute volumes of tissues as features, however, might not be predictive. Instead, relative volumes need to be computed as the ratios between each tissue volume and overall brain volume. But you might also want to explore using different combinations or even polynomial features.\n",
    "\n",
    "Implement a function that constructs a big matrix $X$ with a row for each subject and features across the columns. Start with just calculating three simple features of relative tissue volumes for GM, WM and CSF, and compare these to the absolute volumes plotted above.\n",
    "\n",
    "*Note:* If you are struggling with the previous task on image segmentation, or if you prefer to work on this and the following tasks first, you can continue here using the provided reference segmentations which can be found in a subfolder `segs_refs`."
   ]
  },
  {
   "cell_type": "code",
   "execution_count": null,
   "metadata": {},
   "outputs": [],
   "source": [
    "## CALCULATE ABSOLUTE TISSUE VOLUMES\n",
    "\n",
    "import os\n",
    "\n",
    "# USE THIS TO RUN THE CALCULATIONS ON YOUR SEGMENTATONS\n",
    "#seg_dir = './output/pred/'\n",
    "\n",
    "# USE THIS TO RUN THE CALCULATIONS ON OUR REFERENCE SEGMENTATIONS\n",
    "seg_dir = data_dir + 'segs_refs/'\n",
    "\n",
    "meta_data_reg_train = pd.read_csv(data_dir + 'meta/meta_data_reg_train.csv')\n",
    "ids_reg_train = list(meta_data_reg_train['subject_id'])\n",
    "files_reg_seg_train = [seg_dir + 'sub-' + f + '_T1w_seg.nii.gz' for f in ids_reg_train]\n",
    "\n",
    "# THIS MATRIX WILL STORE THE VOLUMES PER TISSUE CLASS\n",
    "vols = np.zeros((3,len(files_reg_seg_train)))\n",
    "\n",
    "for idx, _ in enumerate(tqdm(range(len(files_reg_seg_train)), desc='Calculating Features')):\n",
    "    \n",
    "    seg_filename = files_reg_seg_train[idx]\n",
    "    \n",
    "    if os.path.exists(seg_filename):\n",
    "        seg = sitk.ReadImage(seg_filename)\n",
    "        \n",
    "        ########################################\n",
    "        # ADD YOUR CODE HERE\n",
    "        ########################################"
   ]
  },
  {
   "cell_type": "markdown",
   "metadata": {},
   "source": [
    "Plot features versus age."
   ]
  },
  {
   "cell_type": "code",
   "execution_count": null,
   "metadata": {},
   "outputs": [],
   "source": [
    "plt.scatter(vols[0,:],meta_data_reg_train['age'], marker='.')\n",
    "plt.scatter(vols[1,:],meta_data_reg_train['age'], marker='.')\n",
    "plt.scatter(vols[2,:],meta_data_reg_train['age'], marker='.')\n",
    "plt.grid()\n",
    "plt.title('Unnormalised')\n",
    "plt.xlabel('Volume')\n",
    "plt.ylabel('Age')\n",
    "plt.legend(('CSF','GM','WM'))\n",
    "plt.show()"
   ]
  },
  {
   "cell_type": "code",
   "execution_count": null,
   "metadata": {},
   "outputs": [],
   "source": [
    "## CALCULATE RELATIVE TISSUE VOLUMES\n",
    "\n",
    "vols_normalised = np.zeros((3,len(files_reg_seg_train)))\n",
    "\n",
    "########################################\n",
    "# ADD YOUR CODE HERE\n",
    "########################################"
   ]
  },
  {
   "cell_type": "markdown",
   "metadata": {},
   "source": [
    "Plot normalised features versus age."
   ]
  },
  {
   "cell_type": "code",
   "execution_count": null,
   "metadata": {},
   "outputs": [],
   "source": [
    "plt.scatter(vols_normalised[0,:],meta_data_reg_train['age'], marker='.')\n",
    "plt.scatter(vols_normalised[1,:],meta_data_reg_train['age'], marker='.')\n",
    "plt.scatter(vols_normalised[2,:],meta_data_reg_train['age'], marker='.')\n",
    "plt.grid()\n",
    "plt.title('Normalised')\n",
    "plt.xlabel('Volume')\n",
    "plt.ylabel('Age')\n",
    "plt.legend(('CSF','GM','WM'))\n",
    "plt.show()"
   ]
  },
  {
   "cell_type": "markdown",
   "metadata": {},
   "source": [
    "Final data for age regression"
   ]
  },
  {
   "cell_type": "code",
   "execution_count": null,
   "metadata": {},
   "outputs": [],
   "source": [
    "X = vols_normalised.T\n",
    "y = meta_data_reg_train['age'].values.reshape(-1,1)\n",
    "\n",
    "print(X.shape)\n",
    "print(y.shape)"
   ]
  },
  {
   "cell_type": "markdown",
   "metadata": {},
   "source": [
    "### TASK A-3: Age regression and cross-validation\n",
    "\n",
    "Experiment with different regression methods from the [scikit-learn toolkit](http://scikit-learn.org/stable/supervised_learning.html#supervised-learning). Remember to construct the output vectur $y$ containing the age for each of the subjects.\n",
    "\n",
    "Evaluate the methods using two-fold [cross-validation](http://scikit-learn.org/stable/modules/cross_validation.html#cross-validation) where the dataset of 500 subjects is split into two equally sized sets $(X_1,y_1)$ and $(X_2,y_2)$ which are used for training and testing in an alternating way (so each set is used as $(X_{\\text{train}},y_{\\text{train}})$ and $(X_{\\text{test}},y_{\\text{test}})$ exactly once).\n",
    "\n",
    "Try using at least three different regression methods, and generate a plot allows easy comparison of the performance of the three methods. Useful [error metrics](https://scikit-learn.org/stable/modules/model_evaluation.html#regression-metrics) to report include mean absolute error and r2 score. You might also want to plot the real vs predicted ages.\n",
    "\n",
    "*Note:* These [scikit-learn examples](https://scikit-learn.org/stable/auto_examples/) might serve as an inspiration.\n",
    "\n",
    "*Hint:* Be careful how you split the dataset into two folds. Take into account the data characteristics shown at the top of the notebook."
   ]
  },
  {
   "cell_type": "code",
   "execution_count": null,
   "metadata": {},
   "outputs": [],
   "source": [
    "########################################\n",
    "# ADD YOUR CODE HERE\n",
    "########################################"
   ]
  },
  {
   "cell_type": "markdown",
   "metadata": {},
   "source": [
    "Error calculation and plotting"
   ]
  },
  {
   "cell_type": "code",
   "execution_count": null,
   "metadata": {},
   "outputs": [],
   "source": [
    "print('mean absolute error: {0}'.format(mean_absolute_error(y,predicted)))\n",
    "print('r2 score: {0}'.format(r2_score(y,predicted)))\n",
    "\n",
    "fig, ax = plt.subplots()\n",
    "ax.scatter(y, predicted, marker='.')\n",
    "ax.plot([y.min(), y.max()], [y.min(), y.max()], 'k--', lw=2)\n",
    "ax.set_xlabel('Real Age')\n",
    "ax.set_ylabel('Predicted Age')\n",
    "plt.show()"
   ]
  },
  {
   "cell_type": "markdown",
   "metadata": {},
   "source": [
    "## Part B: PCA-based regression using grey matter maps\n",
    "\n",
    "The second approach will make use of grey matter maps that have been already extracted from the MRI scans and aligned to a common reference space to obtain spatially normalised maps. For this, we have used an advanced, state-of-the-art neuroimaging toolkit, called SPM12. The reference space corresponds to the commonly used MNI atlas as seen in the lecture on image segmentation.\n",
    "\n",
    "Because these grey matter maps are spatially normalised (ie., registered), voxel locations across images from different subjects roughly correspond to the same anatomical locations. This means that each voxel location in the grey matter maps can be treated as an individual feature. Because those maps are quite large at their full resolution there would be a very large number of features to deal with (more than 850,000). A dimensionality reduction may need to be performed before training a suitable regressor on the low-dimensional feature representation. We will use Principal Component Analysis (PCA) to do the dimensionality reduction. It might also be beneficial to apply some pre-processing (downsampling, smoothing, etc.) before running PCA, which should be explored. The implemented pipeline should be evaluated using two-fold cross-validation using the same data splits as in part A for the 500 subjects, so the two different approaches can be directly compared in terms average age prediction accuracy.\n",
    "\n",
    "*Note:* For part B, only the spatially normalised grey matter maps should be used."
   ]
  },
  {
   "cell_type": "markdown",
   "metadata": {},
   "source": [
    "### TASK B-1: Pre-processing\n",
    "\n",
    "Before running PCA to reduce the dimensionality of the feature space for grey matter maps, it might be beneficial to run some pre-processing on the maps. In voxel-based analysis where each voxel location is a feature, it is common to apply some smoothing beforehand. This is to reduce noise and to compensate for errors of the spatial normalisation.\n",
    "\n",
    "Because the maps are quite large, it might also be worthwile to explore whether downsampling could be performed even before PCA. This would further reduce the dimensionality, and might be even needed in the case where PCA on the orignial resolution runs into memory issues. You may want to consider other ways of pre-processing and you can find insipiration in the notebook on medical image computing `02-Intro-Medical-Image-Computing.ipynb`.\n",
    "\n",
    "Implement a function that performs suitable pre-processing on each grey matter map.\n",
    "\n",
    "*Hint:* You may want to save the pre-processed maps using `sitk.WriteImage` to avoid recomputation each time you run the notebook."
   ]
  },
  {
   "cell_type": "code",
   "execution_count": 72,
   "metadata": {},
   "outputs": [],
   "source": [
    "import csv\n",
    "import numpy as np\n",
    "from sklearn.model_selection import train_test_split\n",
    "import os\n",
    "\n",
    "path = 'combined_exist.tsv'\n",
    "\n",
    "def read_meta(path=path):\n",
    "    '''Correctly reads a .tsv} file into a numpy array'''\n",
    "    data = []\n",
    "\n",
    "    with open(path) as fd:\n",
    "        rd = csv.reader(fd, delimiter=\",\", quotechar='\"')\n",
    "        data = []\n",
    "        for idx, row in enumerate(rd):\n",
    "            if idx == 0:\n",
    "                continue\n",
    "            data.append(row)\n",
    "\n",
    "    data = np.array(data)\n",
    "\n",
    "    return data\n",
    "\n",
    "\n",
    "def get_file_path(patient_id, session_id):\n",
    "    # sub-CC00050XX01_ses-7201_T2w_graymatter.nii.gz\n",
    "    file_name = \"sub-\" + patient_id +\"_ses-\" + session_id + '_T2w_graymatter.nii.gz'\n",
    "    file_path = data_dir + file_name\n",
    "\n",
    "    return file_path"
   ]
  },
  {
   "cell_type": "code",
   "execution_count": 73,
   "metadata": {},
   "outputs": [],
   "source": [
    "# Metadata categories\n",
    "categories = {'gender': 3, 'birth_age': 4, 'weight': 5, 'scan_age': 7, 'scan_num': 8}\n",
    "meta_column_idx = categories['scan_age']\n",
    "test_size = 0.09\n",
    "val_size = 0.1\n",
    "random_state = 42\n",
    "\n",
    "def split_data(meta_data, meta_column_idx):\n",
    "    '''Split data into training and testing maintaining the same distribution for labels. Splitting is done\n",
    "    based on the task and the target labels.\n",
    "    :param meta_data: meta_data that is going to be split.\n",
    "    :returns: Train or test meta_data.'''\n",
    "\n",
    "    _, bins = np.histogram(meta_data[:, meta_column_idx].astype(float), bins='doane')\n",
    "    y_binned = np.digitize(meta_data[:, meta_column_idx].astype(float), bins)\n",
    "\n",
    "    X_train, X_test, y_train, y_test = train_test_split(meta_data, meta_data[:, meta_column_idx],\n",
    "                                                        test_size=test_size,\n",
    "                                                        random_state=random_state,\n",
    "                                                        stratify=y_binned)\n",
    "    if val_size > 0:\n",
    "        _, bins = np.histogram(X_train[:, meta_column_idx].astype(float), bins='doane')\n",
    "        y_binned = np.digitize(X_train[:, meta_column_idx].astype(float), bins)\n",
    "\n",
    "        X_train, X_val, y_train, y_test = train_test_split(X_train, X_train[:, meta_column_idx],\n",
    "                                                            test_size=val_size,\n",
    "                                                            random_state=random_state,\n",
    "                                                            stratify=y_binned)\n",
    "\n",
    "    return X_train, X_val, X_test"
   ]
  },
  {
   "cell_type": "code",
   "execution_count": 81,
   "metadata": {},
   "outputs": [],
   "source": [
    "# 1. Read the data\n",
    "meta_data = read_meta()\n",
    "\n",
    "# 2. Split the data\n",
    "X_train, X_val, X_test = split_data(meta_data, meta_column_idx)\n",
    "\n",
    "\n",
    "# 3. Iterate through all patient ids\n",
    "gm_filenames = []\n",
    "ages = []\n",
    "for idx, patient_id in enumerate(meta_data[:, 1]):\n",
    "    file_path = get_file_path(patient_id, meta_data[idx, 2])\n",
    "    if os.path.isfile(file_path):\n",
    "        gm_filenames.append(file_path)\n",
    "        ages.append(float(meta_data[idx, meta_column_idx]))\n",
    "\n",
    "        # READ NIFTI\n",
    "        # Do this inside the Dataset Class\n",
    "    "
   ]
  },
  {
   "cell_type": "code",
   "execution_count": 146,
   "metadata": {
    "scrolled": false
   },
   "outputs": [],
   "source": [
    "########################################\n",
    "# ADD YOUR CODE HERE\n",
    "########################################\n",
    "\n",
    "from sklearn.model_selection import train_test_split\n",
    "from tqdm import tqdm_notebook as tqdm\n",
    "\n",
    "# meta_data_reg_train = pd.read_csv(data_dir + 'meta/meta_data_reg_train.csv')\n",
    "\n",
    "# 1. Get train meta data\n",
    "# IDs = meta_data_reg_train['subject_id'].tolist()\n",
    "# ages = meta_data_reg_train['age'].tolist()\n",
    "\n",
    "# 2. Grey matter map filenames\n",
    "# gm_filenames = [data_dir + 'greymatter/wc1sub-' + ID + '_T1w.nii.gz' for ID in IDs]\n",
    "variances = [i for i in range(10)]\n",
    "\n",
    "class PCADataset(Dataset):\n",
    "    \"\"\"Dataset for image segmentation.\"\"\"\n",
    "\n",
    "    def __init__(self, file_list_img, ages, img_spacing, img_size, smooth, edge=False, sharpen=False):\n",
    "        self.samples = []\n",
    "        self.img_names = []\n",
    "        self.ages = ages\n",
    "\n",
    "        for idx, _ in enumerate(tqdm(range(len(file_list_img)), desc='Loading Data')):\n",
    "            \n",
    "            # 1. Get image\n",
    "            img_path = file_list_img[idx]\n",
    "            img = sitk.Cast(sitk.ReadImage(img_path), sitk.sitkFloat32)\n",
    "\n",
    "            # 2. Pre-process the image\n",
    "            img = resample_image(img, img_spacing, img_size, is_label=False)\n",
    "            \n",
    "            if smooth in variances:\n",
    "                img = sitk.DiscreteGaussian(img, smooth)\n",
    "\n",
    "            elif smooth == 'diffusion':\n",
    "                img = sitk.GradientAnisotropicDiffusion(img)\n",
    "                \n",
    "            if edge:\n",
    "                img = sitk.SobelEdgeDetection(img)\n",
    "\n",
    "            if sharpen:\n",
    "                img_sm = sitk.DiscreteGaussian(img, 1)\n",
    "                a = img - img_sm\n",
    "                img = img + a * 2               \n",
    "                \n",
    "            # 3. Append to the samples list\n",
    "            self.samples.append(img)\n",
    "            self.img_names.append(os.path.basename(img_path)) \n",
    "\n",
    "    def __len__(self):\n",
    "        return len(self.samples)\n",
    "\n",
    "    def __getitem__(self, item):\n",
    "        sample = self.samples[item]\n",
    "        image = torch.from_numpy(sitk.GetArrayFromImage(sample)).unsqueeze(0)\n",
    "\n",
    "        return image\n",
    "    \n",
    "    def get_sample(self, item):\n",
    "        return self.samples[item]\n",
    "\n",
    "    def get_img_name(self, item):\n",
    "        return self.img_names[item]\n",
    "\n",
    "    def get_seg_name(self, item):\n",
    "        return self.seg_names[item]\n",
    "    \n",
    "    def split_data(self):\n",
    "        \n",
    "        numpy_samples = []\n",
    "        \n",
    "        for sample in self.samples:\n",
    "            numpy_samples.append(sitk.GetArrayFromImage(sample).flatten())\n",
    "        \n",
    "        numpy_samples = np.array(numpy_samples)\n",
    "        \n",
    "        X_train, X_test, y_train, y_test = train_test_split(numpy_samples, self.ages, test_size=0.50, random_state=42)\n",
    "        return X_train, X_test, y_train, y_test\n",
    "    \n",
    "    def get_data(self):\n",
    "        numpy_samples = []\n",
    "    \n",
    "        for sample in self.samples:\n",
    "            numpy_samples.append(sitk.GetArrayFromImage(sample).flatten())\n",
    "        \n",
    "        return np.array(numpy_samples), self.ages\n"
   ]
  },
  {
   "cell_type": "code",
   "execution_count": 157,
   "metadata": {
    "scrolled": true
   },
   "outputs": [
    {
     "data": {
      "application/vnd.jupyter.widget-view+json": {
       "model_id": "0062b200e94643feba29b5f654537419",
       "version_major": 2,
       "version_minor": 0
      },
      "text/plain": [
       "HBox(children=(IntProgress(value=0, description='Loading Data', max=2, style=ProgressStyle(description_width='…"
      ]
     },
     "metadata": {},
     "output_type": "display_data"
    }
   ],
   "source": [
    "data = PCADataset(gm_filenames[0:2], ages, [1, 1, 1], [130 for i in range(3)], 1)"
   ]
  },
  {
   "cell_type": "code",
   "execution_count": 158,
   "metadata": {},
   "outputs": [
    {
     "data": {
      "image/png": "[encoded data removed]",
      "text/plain": [
       "<Figure size 720x288 with 3 Axes>"
      ]
     },
     "metadata": {
      "needs_background": "light"
     },
     "output_type": "display_data"
    }
   ],
   "source": [
    "sample_image = sitk.ReadImage(gm_filenames[8])\n",
    "display_image(sample_image)"
   ]
  },
  {
   "cell_type": "code",
   "execution_count": 159,
   "metadata": {},
   "outputs": [
    {
     "data": {
      "image/png": "[encoded data removed]",
      "text/plain": [
       "<Figure size 720x288 with 3 Axes>"
      ]
     },
     "metadata": {
      "needs_background": "light"
     },
     "output_type": "display_data"
    }
   ],
   "source": [
    "display_image(data.get_sample(0))"
   ]
  },
  {
   "cell_type": "code",
   "execution_count": null,
   "metadata": {},
   "outputs": [],
   "source": []
  },
  {
   "cell_type": "code",
   "execution_count": 162,
   "metadata": {},
   "outputs": [
    {
     "data": {
      "application/vnd.jupyter.widget-view+json": {
       "model_id": "0c005d0e5d764b07a680f5d16d27407b",
       "version_major": 2,
       "version_minor": 0
      },
      "text/plain": [
       "HBox(children=(IntProgress(value=0, description='Loading Data', max=732, style=ProgressStyle(description_width…"
      ]
     },
     "metadata": {},
     "output_type": "display_data"
    }
   ],
   "source": [
    "data = PCADataset(gm_filenames, ages, [1, 1, 1], [130 for i in range(3)], 1)"
   ]
  },
  {
   "cell_type": "markdown",
   "metadata": {},
   "source": [
    "### TASK B-2: Dimensionality reduction\n",
    "\n",
    "Implement dimensionality reduction for grey matter maps using [scitkit-learn's PCA](http://scikit-learn.org/stable/modules/decomposition.html#pca). PCA has an option to set the percentage of variance to be preserved (by setting the parameter `n_components` to a value between 0 and 1). The number of principal modes, that is the new dimensionality of the data, is then automatically determined. Try initially to preserve 95% of the variance (`n_components=0.95`).\n",
    "\n",
    "*Note:* When dimensionality reduction is used as pre-processing step for supervised learning, as in this case, it is important that PCA is fitted to the training data only, but then applied to both the training and testing data. So make sure your implementation consists of two separate steps, 1) fitting the PCA model to $X_{\\text{train}}$ (using the `fit` function), and 2) applying dimensionality reduction to $X_{\\text{train}}$ and $X_{\\text{test}}$ using the `transform` function."
   ]
  },
  {
   "cell_type": "code",
   "execution_count": 163,
   "metadata": {},
   "outputs": [],
   "source": [
    "########################################\n",
    "# ADD YOUR CODE HERE\n",
    "########################################\n",
    "\n",
    "from sklearn.decomposition import PCA\n",
    "\n",
    "def PCA_process(X_train, X_test, y_train, y_test, n_components):\n",
    "    pca1 = PCA(n_components=n_components)\n",
    "    pca2 = PCA(n_components=n_components)\n",
    "    pca1.fit(X_train)\n",
    "    pca2.fit(X_test)\n",
    "\n",
    "    # Fold 1 : fit onto X_train\n",
    "    X_train1 = pca1.transform(X_train)\n",
    "    X_test1 = pca1.transform(X_test)\n",
    "    y_train1 = y_train\n",
    "    y_test1 = y_test\n",
    "\n",
    "    # Fold 2 : fit onto X_test\n",
    "    X_test2 = pca2.transform(X_train)\n",
    "    X_train2 = pca2.transform(X_test)\n",
    "    y_train2 = y_test\n",
    "    y_test2 = y_train\n",
    "    \n",
    "    return X_train1, y_train1, X_test1, y_test1, X_train2, y_train2, X_test2, y_test2\n"
   ]
  },
  {
   "cell_type": "code",
   "execution_count": null,
   "metadata": {},
   "outputs": [],
   "source": []
  },
  {
   "cell_type": "markdown",
   "metadata": {},
   "source": [
    "### TASK B-3: Age regression and cross-validation\n",
    "\n",
    "Experiment with different regression methods from the [scikit-learn toolkit](http://scikit-learn.org/stable/supervised_learning.html#supervised-learning). Evaluate the methods using two-fold [cross-validation](http://scikit-learn.org/stable/modules/cross_validation.html#cross-validation) in the same way as for your approach in Part A so results can be directly compared. Generate the similar plots.\n",
    "\n",
    "Try using at least three different regression methods.\n",
    "\n",
    "*Hint:* Remember, when you use cross-validation where you swap training and testing sets in each fold, you need to fit PCA to the training set of each fold."
   ]
  },
  {
   "cell_type": "code",
   "execution_count": 84,
   "metadata": {
    "scrolled": true
   },
   "outputs": [
    {
     "ename": "NameError",
     "evalue": "name 'img_spacing' is not defined",
     "output_type": "error",
     "traceback": [
      "\u001b[0;31m---------------------------------------------------------------------------\u001b[0m",
      "\u001b[0;31mNameError\u001b[0m                                 Traceback (most recent call last)",
      "\u001b[0;32m<ipython-input-84-f10ffe2f16bb>\u001b[0m in \u001b[0;36m<module>\u001b[0;34m\u001b[0m\n\u001b[1;32m      6\u001b[0m         \u001b[0;32mfor\u001b[0m \u001b[0mgaussian_smooth\u001b[0m \u001b[0;32min\u001b[0m \u001b[0;34m[\u001b[0m\u001b[0;36m5\u001b[0m\u001b[0;34m,\u001b[0m \u001b[0;36m6\u001b[0m\u001b[0;34m,\u001b[0m \u001b[0;36m7\u001b[0m\u001b[0;34m,\u001b[0m \u001b[0;36m8\u001b[0m\u001b[0;34m,\u001b[0m \u001b[0;36m9\u001b[0m\u001b[0;34m,\u001b[0m \u001b[0;36m10\u001b[0m\u001b[0;34m,\u001b[0m \u001b[0;34m'diffusion'\u001b[0m\u001b[0;34m]\u001b[0m\u001b[0;34m:\u001b[0m\u001b[0;34m\u001b[0m\u001b[0;34m\u001b[0m\u001b[0m\n\u001b[1;32m      7\u001b[0m             \u001b[0;32mfor\u001b[0m \u001b[0mn_components\u001b[0m \u001b[0;32min\u001b[0m \u001b[0;34m[\u001b[0m\u001b[0;36m0.8\u001b[0m\u001b[0;34m,\u001b[0m \u001b[0;36m0.85\u001b[0m\u001b[0;34m,\u001b[0m \u001b[0;36m0.9\u001b[0m\u001b[0;34m,\u001b[0m \u001b[0;36m0.95\u001b[0m\u001b[0;34m]\u001b[0m\u001b[0;34m:\u001b[0m\u001b[0;34m\u001b[0m\u001b[0;34m\u001b[0m\u001b[0m\n\u001b[0;32m----> 8\u001b[0;31m                 \u001b[0mdataset\u001b[0m \u001b[0;34m=\u001b[0m \u001b[0mPCADataset\u001b[0m\u001b[0;34m(\u001b[0m\u001b[0mgm_filenames\u001b[0m\u001b[0;34m,\u001b[0m \u001b[0mages\u001b[0m\u001b[0;34m,\u001b[0m \u001b[0mimg_spacing\u001b[0m\u001b[0;34m,\u001b[0m \u001b[0mimg_size\u001b[0m\u001b[0;34m,\u001b[0m \u001b[0mgaussian_smooth\u001b[0m\u001b[0;34m,\u001b[0m \u001b[0medge\u001b[0m\u001b[0;34m=\u001b[0m\u001b[0medge\u001b[0m\u001b[0;34m,\u001b[0m \u001b[0msharpen\u001b[0m\u001b[0;34m=\u001b[0m\u001b[0msharpen\u001b[0m\u001b[0;34m)\u001b[0m\u001b[0;34m\u001b[0m\u001b[0;34m\u001b[0m\u001b[0m\n\u001b[0m\u001b[1;32m      9\u001b[0m                 \u001b[0mX_train\u001b[0m\u001b[0;34m,\u001b[0m \u001b[0mX_test\u001b[0m\u001b[0;34m,\u001b[0m \u001b[0my_train\u001b[0m\u001b[0;34m,\u001b[0m \u001b[0my_test\u001b[0m \u001b[0;34m=\u001b[0m \u001b[0mdataset\u001b[0m\u001b[0;34m.\u001b[0m\u001b[0msplit_data\u001b[0m\u001b[0;34m(\u001b[0m\u001b[0;34m)\u001b[0m\u001b[0;34m\u001b[0m\u001b[0;34m\u001b[0m\u001b[0m\n\u001b[1;32m     10\u001b[0m                 \u001b[0mX_train1\u001b[0m\u001b[0;34m,\u001b[0m \u001b[0my_train1\u001b[0m\u001b[0;34m,\u001b[0m \u001b[0mX_test1\u001b[0m\u001b[0;34m,\u001b[0m \u001b[0my_test1\u001b[0m\u001b[0;34m,\u001b[0m \u001b[0mX_train2\u001b[0m\u001b[0;34m,\u001b[0m \u001b[0my_train2\u001b[0m\u001b[0;34m,\u001b[0m \u001b[0mX_test2\u001b[0m\u001b[0;34m,\u001b[0m \u001b[0my_test2\u001b[0m \u001b[0;34m=\u001b[0m \u001b[0mPCA_process\u001b[0m\u001b[0;34m(\u001b[0m\u001b[0mX_train\u001b[0m\u001b[0;34m,\u001b[0m \u001b[0mX_test\u001b[0m\u001b[0;34m,\u001b[0m \u001b[0my_train\u001b[0m\u001b[0;34m,\u001b[0m \u001b[0my_test\u001b[0m\u001b[0;34m,\u001b[0m \u001b[0mn_components\u001b[0m\u001b[0;34m)\u001b[0m\u001b[0;34m\u001b[0m\u001b[0;34m\u001b[0m\u001b[0m\n",
      "\u001b[0;31mNameError\u001b[0m: name 'img_spacing' is not defined"
     ]
    }
   ],
   "source": [
    "# Prepare datasets with different processing for {Gaussian Variance, Number of PCA Components}:\n",
    "datasets = []\n",
    "\n",
    "for sharpen in [True, False]:\n",
    "    for edge in [True, False]:\n",
    "        for gaussian_smooth in [5, 6, 7, 8, 9, 10, 'diffusion']:\n",
    "            for n_components in [0.8, 0.85, 0.9, 0.95]:\n",
    "                dataset = PCADataset(gm_filenames, ages, img_spacing, img_size, gaussian_smooth, edge=edge, sharpen=sharpen)\n",
    "                X_train, X_test, y_train, y_test = dataset.split_data()\n",
    "                X_train1, y_train1, X_test1, y_test1, X_train2, y_train2, X_test2, y_test2 = PCA_process(X_train, X_test, y_train, y_test, n_components)\n",
    "\n",
    "                datasets.append((X_train1, y_train1, X_test1, y_test1, X_train2, y_train2, X_test2, y_test2))    "
   ]
  },
  {
   "cell_type": "code",
   "execution_count": 55,
   "metadata": {},
   "outputs": [],
   "source": [
    "# Record datasets' characteristics\n",
    "datasets_descriptions = {}\n",
    "idx = 0\n",
    "for sharpen in [True, False]:\n",
    "    for edge in [True, False]:\n",
    "        for gaussian_smooth in [3, 4, 5, 6, 7, 8, 'diffusion']:\n",
    "            for n_components in [0.8, 0.85, 0.9, 0.95]:\n",
    "                datasets_descriptions[idx] = (gaussian_smooth, n_components, edge, sharpen)\n",
    "                idx+=1"
   ]
  },
  {
   "cell_type": "markdown",
   "metadata": {},
   "source": [
    "# 1. SVR Regression: RBF"
   ]
  },
  {
   "cell_type": "code",
   "execution_count": 56,
   "metadata": {
    "scrolled": true
   },
   "outputs": [
    {
     "name": "stdout",
     "output_type": "stream",
     "text": [
      "Dataset 0 --> Minimum Error: 5.382100036103164\n",
      "Dataset 1 --> Minimum Error: 5.304125056942558\n",
      "Dataset 2 --> Minimum Error: 5.337901056246922\n",
      "Dataset 3 --> Minimum Error: 5.306343573434205\n",
      "Dataset 4 --> Minimum Error: 5.360449151541875\n",
      "Dataset 5 --> Minimum Error: 5.297942740244676\n",
      "Dataset 6 --> Minimum Error: 5.312736380904953\n",
      "Dataset 7 --> Minimum Error: 5.274795675117068\n",
      "Dataset 8 --> Minimum Error: 5.33922543204406\n",
      "Dataset 9 --> Minimum Error: 5.279652524007767\n",
      "Dataset 10 --> Minimum Error: 5.262537340515125\n",
      "Dataset 11 --> Minimum Error: 5.2518048179461445\n",
      "Dataset 12 --> Minimum Error: 5.312760972844595\n",
      "Dataset 13 --> Minimum Error: 5.2829147385954425\n",
      "Dataset 14 --> Minimum Error: 5.251428696543151\n",
      "Dataset 15 --> Minimum Error: 5.245904811900345\n",
      "Dataset 16 --> Minimum Error: 5.324576184266013\n",
      "Dataset 17 --> Minimum Error: 5.25961886250685\n",
      "Dataset 18 --> Minimum Error: 5.204416291772683\n",
      "Dataset 19 --> Minimum Error: 5.228745143495804\n",
      "Dataset 20 --> Minimum Error: 5.501188865086411\n",
      "Dataset 21 --> Minimum Error: 5.560648392900505\n",
      "Dataset 22 --> Minimum Error: 5.571236608353528\n",
      "Dataset 23 --> Minimum Error: 5.592579177574473\n",
      "Dataset 24 --> Minimum Error: 5.376430382584713\n",
      "Dataset 25 --> Minimum Error: 5.377523847237338\n",
      "Dataset 26 --> Minimum Error: 5.37260847341594\n",
      "Dataset 27 --> Minimum Error: 5.3673969603447595\n",
      "Dataset 28 --> Minimum Error: 5.473382717098291\n",
      "Dataset 29 --> Minimum Error: 5.446660869769373\n",
      "Dataset 30 --> Minimum Error: 5.451299752765424\n",
      "Dataset 31 --> Minimum Error: 5.420007824362651\n",
      "Dataset 32 --> Minimum Error: 5.453398443728146\n",
      "Dataset 33 --> Minimum Error: 5.377658450797072\n",
      "Dataset 34 --> Minimum Error: 5.388348910848745\n",
      "Dataset 35 --> Minimum Error: 5.395366993960684\n",
      "Dataset 36 --> Minimum Error: 5.488575864213647\n",
      "Dataset 37 --> Minimum Error: 5.43829277303697\n",
      "Dataset 38 --> Minimum Error: 5.351060737497123\n",
      "Dataset 39 --> Minimum Error: 5.3700116934062185\n",
      "Dataset 40 --> Minimum Error: 5.450095056465198\n",
      "Dataset 41 --> Minimum Error: 5.349328954300558\n",
      "Dataset 42 --> Minimum Error: 5.34141040787801\n",
      "Dataset 43 --> Minimum Error: 5.348631376920737\n",
      "Dataset 44 --> Minimum Error: 5.519140484167744\n",
      "Dataset 45 --> Minimum Error: 5.391973925442193\n",
      "Dataset 46 --> Minimum Error: 5.321064174111062\n",
      "Dataset 47 --> Minimum Error: 5.327465847036538\n",
      "Dataset 48 --> Minimum Error: 5.944271435835983\n",
      "Dataset 49 --> Minimum Error: 5.952762939668886\n",
      "Dataset 50 --> Minimum Error: 5.8965357926422985\n",
      "Dataset 51 --> Minimum Error: 5.9281617782926785\n",
      "Dataset 52 --> Minimum Error: 5.609963965123665\n",
      "Dataset 53 --> Minimum Error: 5.6641721394335\n",
      "Dataset 54 --> Minimum Error: 5.572640918561175\n",
      "Dataset 55 --> Minimum Error: 5.544626373456671\n",
      "Dataset 56 --> Minimum Error: 5.27191178129884\n",
      "Dataset 57 --> Minimum Error: 5.225454651718952\n",
      "Dataset 58 --> Minimum Error: 5.207373385933234\n",
      "Dataset 59 --> Minimum Error: 5.200511700430329\n",
      "Dataset 60 --> Minimum Error: 5.274398931779592\n",
      "Dataset 61 --> Minimum Error: 5.252235650439215\n",
      "Dataset 62 --> Minimum Error: 5.176768036442386\n",
      "Dataset 63 --> Minimum Error: 5.182397449068431\n",
      "Dataset 64 --> Minimum Error: 5.341419536871838\n",
      "Dataset 65 --> Minimum Error: 5.243797578805409\n",
      "Dataset 66 --> Minimum Error: 5.173494406166061\n",
      "Dataset 67 --> Minimum Error: 5.173087152349712\n",
      "Dataset 68 --> Minimum Error: 5.300315904426274\n",
      "Dataset 69 --> Minimum Error: 5.23276905063485\n",
      "Dataset 70 --> Minimum Error: 5.159280292173502\n",
      "Dataset 71 --> Minimum Error: 5.169896151530439\n",
      "Dataset 72 --> Minimum Error: 5.290681324469381\n",
      "Dataset 73 --> Minimum Error: 5.208490963131767\n",
      "Dataset 74 --> Minimum Error: 5.153116214385383\n",
      "Dataset 75 --> Minimum Error: 5.186275014359185\n",
      "Dataset 76 --> Minimum Error: 5.340527035925889\n",
      "Dataset 77 --> Minimum Error: 5.338405693614335\n",
      "Dataset 78 --> Minimum Error: 5.3568889233338055\n",
      "Dataset 79 --> Minimum Error: 5.357409621638348\n",
      "Dataset 80 --> Minimum Error: 5.251416915710577\n",
      "Dataset 81 --> Minimum Error: 5.260047610938678\n",
      "Dataset 82 --> Minimum Error: 5.282038442410624\n",
      "Dataset 83 --> Minimum Error: 5.241649712207242\n",
      "Dataset 84 --> Minimum Error: 5.485275927906631\n",
      "Dataset 85 --> Minimum Error: 5.348982591713078\n",
      "Dataset 86 --> Minimum Error: 5.384507611357705\n",
      "Dataset 87 --> Minimum Error: 5.385299575793413\n",
      "Dataset 88 --> Minimum Error: 5.442445462561287\n",
      "Dataset 89 --> Minimum Error: 5.352326833122484\n",
      "Dataset 90 --> Minimum Error: 5.334325826601589\n",
      "Dataset 91 --> Minimum Error: 5.361714172183376\n",
      "Dataset 92 --> Minimum Error: 5.493795556393487\n",
      "Dataset 93 --> Minimum Error: 5.350414598314789\n",
      "Dataset 94 --> Minimum Error: 5.337907955233246\n",
      "Dataset 95 --> Minimum Error: 5.330507452341582\n",
      "Dataset 96 --> Minimum Error: 5.447675672722193\n",
      "Dataset 97 --> Minimum Error: 5.425285792080402\n",
      "Dataset 98 --> Minimum Error: 5.301690440940291\n",
      "Dataset 99 --> Minimum Error: 5.314738812012985\n",
      "Dataset 100 --> Minimum Error: 5.479933870241664\n",
      "Dataset 101 --> Minimum Error: 5.414356681563413\n",
      "Dataset 102 --> Minimum Error: 5.2763298273378085\n",
      "Dataset 103 --> Minimum Error: 5.294533717707463\n",
      "Dataset 104 --> Minimum Error: 5.837564400137438\n",
      "Dataset 105 --> Minimum Error: 5.832973220339671\n",
      "Dataset 106 --> Minimum Error: 5.761797677513059\n",
      "Dataset 107 --> Minimum Error: 5.741800372893988\n",
      "Dataset 108 --> Minimum Error: 5.5233875047753305\n",
      "Dataset 109 --> Minimum Error: 5.48078019225001\n",
      "Dataset 110 --> Minimum Error: 5.511496087484117\n",
      "Dataset 111 --> Minimum Error: 5.438710815961671\n",
      "Best result: 5.153116214385383\n",
      "Best dataset: (74, 50000000.0, 1e-07)\n"
     ]
    }
   ],
   "source": [
    "from sklearn.svm import SVR\n",
    "from sklearn.metrics import mean_absolute_error, r2_score\n",
    "from sklearn.model_selection import cross_val_score\n",
    "\n",
    "results = {}\n",
    "\n",
    "# Run extensive grid search\n",
    "for idx, dataset in enumerate(datasets):\n",
    "    \n",
    "    X_train1, y_train1, X_test1, y_test1, X_train2, y_train2, X_test2, y_test2 = dataset\n",
    "    \n",
    "    av_per_dataset = []\n",
    "\n",
    "    for C in [1e5, 5e5, 1e6, 5e6, 1e7, 5e7]:\n",
    "        for gamma in [1e-4, 1e-5, 1e-6, 1e-7, 1e-8]:\n",
    "            \n",
    "            clf = SVR(kernel='rbf', C=C, gamma=gamma, epsilon=.1)\n",
    "\n",
    "            for cv in range(1, 3):\n",
    "                if cv == 1:\n",
    "                    clf.fit(X_train1, y_train1)\n",
    "                    y_pred1 = clf.predict(X_test1)\n",
    "                    mean1 = mean_absolute_error(y_test1, y_pred1)\n",
    "\n",
    "                else:\n",
    "                    clf.fit(X_train2, y_train2)\n",
    "                    y_pred2 = clf.predict(X_test2)\n",
    "                    mean2 = mean_absolute_error(y_test2, y_pred2)\n",
    "\n",
    "            mean_error = (mean1 + mean2) / 2\n",
    "            results[mean_error] = (idx, C, gamma)\n",
    "            av_per_dataset.append(mean_error)\n",
    "    \n",
    "    print('Dataset {} --> Minimum Error: {}'.format(idx, np.min(av_per_dataset)))\n",
    "    \n",
    "best_error = np.min(list(results.keys()))\n",
    "print('Best result: {}'.format(best_error))\n",
    "print('Best dataset: {}'.format(results[best_error]))"
   ]
  },
  {
   "cell_type": "markdown",
   "metadata": {},
   "source": [
    "# 2. SGD Regression"
   ]
  },
  {
   "cell_type": "code",
   "execution_count": 58,
   "metadata": {},
   "outputs": [
    {
     "name": "stdout",
     "output_type": "stream",
     "text": [
      "Dataset 0 --> Minimum Error: 127273569207236.97\n",
      "Dataset 1 --> Minimum Error: 103011530099102.58\n",
      "Dataset 2 --> Minimum Error: 126747860393686.33\n",
      "Dataset 3 --> Minimum Error: 122331011894357.0\n",
      "Dataset 4 --> Minimum Error: 89371712030746.89\n",
      "Dataset 5 --> Minimum Error: 80335626000740.34\n",
      "Dataset 6 --> Minimum Error: 101158863382863.95\n",
      "Dataset 7 --> Minimum Error: 88733039017144.4\n",
      "Dataset 8 --> Minimum Error: 76456425014439.8\n",
      "Dataset 9 --> Minimum Error: 79671047863095.44\n",
      "Dataset 10 --> Minimum Error: 86271456553515.33\n",
      "Dataset 11 --> Minimum Error: 96536752390651.47\n",
      "Dataset 12 --> Minimum Error: 56484469113020.49\n",
      "Dataset 13 --> Minimum Error: 68117719451219.47\n",
      "Dataset 14 --> Minimum Error: 81683210621994.73\n",
      "Dataset 15 --> Minimum Error: 78607700314541.73\n",
      "Dataset 16 --> Minimum Error: 58892150995612.28\n",
      "Dataset 17 --> Minimum Error: 65004621425645.71\n",
      "Dataset 18 --> Minimum Error: 55091341394260.44\n",
      "Dataset 19 --> Minimum Error: 65258249234122.42\n",
      "Dataset 20 --> Minimum Error: 264676120944226.9\n",
      "Dataset 21 --> Minimum Error: 264703618290056.0\n",
      "Dataset 22 --> Minimum Error: 296236372600438.3\n",
      "Dataset 23 --> Minimum Error: 357517466135057.7\n",
      "Dataset 24 --> Minimum Error: 119307760126518.81\n",
      "Dataset 25 --> Minimum Error: 167648705420953.8\n",
      "Dataset 26 --> Minimum Error: 155875712529917.78\n",
      "Dataset 27 --> Minimum Error: 183226740123457.7\n",
      "Dataset 28 --> Minimum Error: 639817840.5684841\n",
      "Dataset 29 --> Minimum Error: 4631718605.917083\n",
      "Dataset 30 --> Minimum Error: 7785268261.563108\n",
      "Dataset 31 --> Minimum Error: 4325214297.051232\n",
      "Dataset 32 --> Minimum Error: 15035587.832238505\n",
      "Dataset 33 --> Minimum Error: 305625412.07379496\n",
      "Dataset 34 --> Minimum Error: 47343537.03231505\n",
      "Dataset 35 --> Minimum Error: 16679122.70672648\n",
      "Dataset 36 --> Minimum Error: 22555.105180110288\n",
      "Dataset 37 --> Minimum Error: 127303.30567406026\n",
      "Dataset 38 --> Minimum Error: 120644.58297783635\n",
      "Dataset 39 --> Minimum Error: 94139.30146755197\n",
      "Dataset 40 --> Minimum Error: 6.033965651771755\n",
      "Dataset 41 --> Minimum Error: 1834.4913032291297\n",
      "Dataset 42 --> Minimum Error: 15605.023690350588\n",
      "Dataset 43 --> Minimum Error: 11706.989240260482\n",
      "Dataset 44 --> Minimum Error: 5.723743537563169\n",
      "Dataset 45 --> Minimum Error: 5.54152452721\n",
      "Dataset 46 --> Minimum Error: 5.572225867691417\n",
      "Dataset 47 --> Minimum Error: 4414.0002728497475\n",
      "Dataset 48 --> Minimum Error: 536372398693.88574\n",
      "Dataset 49 --> Minimum Error: 478414403565.5209\n",
      "Dataset 50 --> Minimum Error: 740678016274.2626\n",
      "Dataset 51 --> Minimum Error: 1025100739477.8887\n",
      "Dataset 52 --> Minimum Error: 378870715547.13934\n",
      "Dataset 53 --> Minimum Error: 427445438070.86816\n",
      "Dataset 54 --> Minimum Error: 493634605843.8519\n",
      "Dataset 55 --> Minimum Error: 471872372475.025\n",
      "Dataset 56 --> Minimum Error: 74093067343609.88\n",
      "Dataset 57 --> Minimum Error: 70539561619525.83\n",
      "Dataset 58 --> Minimum Error: 73148741369843.98\n",
      "Dataset 59 --> Minimum Error: 83121046508118.88\n",
      "Dataset 60 --> Minimum Error: 53274501300729.83\n",
      "Dataset 61 --> Minimum Error: 75727659522346.53\n",
      "Dataset 62 --> Minimum Error: 80985426703019.55\n",
      "Dataset 63 --> Minimum Error: 60714007722084.03\n",
      "Dataset 64 --> Minimum Error: 52187534109390.14\n",
      "Dataset 65 --> Minimum Error: 69235655088070.5\n",
      "Dataset 66 --> Minimum Error: 57954590841275.8\n",
      "Dataset 67 --> Minimum Error: 71204077220172.03\n",
      "Dataset 68 --> Minimum Error: 48566465344656.86\n",
      "Dataset 69 --> Minimum Error: 44056156339450.66\n",
      "Dataset 70 --> Minimum Error: 50440700129697.12\n",
      "Dataset 71 --> Minimum Error: 50010234741171.49\n",
      "Dataset 72 --> Minimum Error: 42331191576522.56\n",
      "Dataset 73 --> Minimum Error: 47333486548753.81\n",
      "Dataset 74 --> Minimum Error: 52074067617564.555\n",
      "Dataset 75 --> Minimum Error: 50302672714549.58\n",
      "Dataset 76 --> Minimum Error: 156349046082830.9\n",
      "Dataset 77 --> Minimum Error: 172695595937474.1\n",
      "Dataset 78 --> Minimum Error: 186549038561214.72\n",
      "Dataset 79 --> Minimum Error: 187693863509275.88\n",
      "Dataset 80 --> Minimum Error: 91416341792343.77\n",
      "Dataset 81 --> Minimum Error: 115688840531490.34\n",
      "Dataset 82 --> Minimum Error: 109663553639945.56\n",
      "Dataset 83 --> Minimum Error: 122797201273793.25\n",
      "Dataset 84 --> Minimum Error: 2602981.362705352\n",
      "Dataset 85 --> Minimum Error: 2220316.0026622205\n",
      "Dataset 86 --> Minimum Error: 387838.43084239785\n",
      "Dataset 87 --> Minimum Error: 744660.9360040365\n",
      "Dataset 88 --> Minimum Error: 8801.518213143027\n",
      "Dataset 89 --> Minimum Error: 18940.435519400507\n",
      "Dataset 90 --> Minimum Error: 71384.2069960408\n",
      "Dataset 91 --> Minimum Error: 154608.895851855\n",
      "Dataset 92 --> Minimum Error: 5.893039565300354\n",
      "Dataset 93 --> Minimum Error: 5.647464130524266\n",
      "Dataset 94 --> Minimum Error: 2392.2901969997233\n",
      "Dataset 95 --> Minimum Error: 2742.532347045851\n",
      "Dataset 96 --> Minimum Error: 5.739605510361705\n",
      "Dataset 97 --> Minimum Error: 5.6022173555636225\n",
      "Dataset 98 --> Minimum Error: 5.426776421396262\n",
      "Dataset 99 --> Minimum Error: 484.67103789506166\n",
      "Dataset 100 --> Minimum Error: 5.695603149401947\n",
      "Dataset 101 --> Minimum Error: 5.581337347204519\n",
      "Dataset 102 --> Minimum Error: 5.401756891027471\n",
      "Dataset 103 --> Minimum Error: 5.386655048674628\n",
      "Dataset 104 --> Minimum Error: 445491256137.4075\n",
      "Dataset 105 --> Minimum Error: 499528969473.8699\n",
      "Dataset 106 --> Minimum Error: 604458230530.2561\n",
      "Dataset 107 --> Minimum Error: 677575434835.9142\n",
      "Dataset 108 --> Minimum Error: 118418544876.50468\n",
      "Dataset 109 --> Minimum Error: 153993173342.45697\n",
      "Dataset 110 --> Minimum Error: 125102381569.16809\n",
      "Dataset 111 --> Minimum Error: 55810673464.22825\n",
      "Best result: 5.386655048674628\n",
      "Best dataset: (103, 10000000.0, 0.01)\n"
     ]
    }
   ],
   "source": [
    "from sklearn.linear_model import SGDRegressor\n",
    "from sklearn.metrics import mean_absolute_error, r2_score\n",
    "from sklearn.model_selection import cross_val_score\n",
    "\n",
    "results = {}\n",
    "\n",
    "# Run extensive grid search\n",
    "for idx, dataset in enumerate(datasets):\n",
    "    \n",
    "    X_train1, y_train1, X_test1, y_test1, X_train2, y_train2, X_test2, y_test2 = dataset\n",
    "    av_per_dataset = []\n",
    "        \n",
    "    for max_iter in [1e6, 1e7, 5e7]:\n",
    "        for tol in [1e-1, 1e-2, 1e-4]:\n",
    "            \n",
    "            clf = SGDRegressor(max_iter=max_iter, tol=1e-3)\n",
    "\n",
    "            for cv in range(1, 3):\n",
    "                if cv == 1:\n",
    "                    clf.fit(X_train1, y_train1)\n",
    "                    y_pred1 = clf.predict(X_test1)\n",
    "                    mean1 = mean_absolute_error(y_test1, y_pred1)\n",
    "\n",
    "                else:\n",
    "                    clf.fit(X_train2, y_train2)\n",
    "                    y_pred2 = clf.predict(X_test2)\n",
    "                    mean2 = mean_absolute_error(y_test2, y_pred2)\n",
    "\n",
    "            mean_error = (mean1 + mean2) / 2\n",
    "            results[mean_error] = (idx, max_iter, tol)\n",
    "            av_per_dataset.append(mean_error)\n",
    "            \n",
    "    print('Dataset {} --> Minimum Error: {}'.format(idx, np.min(av_per_dataset)))\n",
    "    \n",
    "best_error = np.min(list(results.keys()))\n",
    "print('Best result: {}'.format(best_error))\n",
    "print('Best dataset: {}'.format(results[best_error]))"
   ]
  },
  {
   "cell_type": "markdown",
   "metadata": {},
   "source": [
    "# 3. Gaussian Process"
   ]
  },
  {
   "cell_type": "code",
   "execution_count": 60,
   "metadata": {
    "scrolled": true
   },
   "outputs": [
    {
     "name": "stdout",
     "output_type": "stream",
     "text": [
      "Dataset 0 --> Minimum Error: 5.46838328803071\n",
      "Dataset 1 --> Minimum Error: 5.454171660726492\n",
      "Dataset 2 --> Minimum Error: 5.440135653460054\n",
      "Dataset 3 --> Minimum Error: 5.479201138324734\n",
      "Dataset 4 --> Minimum Error: 5.506442142166263\n",
      "Dataset 5 --> Minimum Error: 5.515498123373181\n",
      "Dataset 6 --> Minimum Error: 5.5059108825549865\n",
      "Dataset 7 --> Minimum Error: 5.479847042177737\n",
      "Dataset 8 --> Minimum Error: 5.5381342152329225\n",
      "Dataset 9 --> Minimum Error: 5.465995930838018\n",
      "Dataset 10 --> Minimum Error: 5.470663431520833\n",
      "Dataset 11 --> Minimum Error: 5.456256138155436\n",
      "Dataset 12 --> Minimum Error: 5.4901289914517\n",
      "Dataset 13 --> Minimum Error: 5.439493641987496\n",
      "Dataset 14 --> Minimum Error: 5.403195401850978\n",
      "Dataset 15 --> Minimum Error: 5.461581863177429\n",
      "Dataset 16 --> Minimum Error: 5.52772336901422\n",
      "Dataset 17 --> Minimum Error: 5.410347206369388\n",
      "Dataset 18 --> Minimum Error: 5.3885046699037815\n",
      "Dataset 19 --> Minimum Error: 5.422879935825378\n",
      "Dataset 20 --> Minimum Error: 5.761802546626574\n",
      "Dataset 21 --> Minimum Error: 5.717766245453374\n",
      "Dataset 22 --> Minimum Error: 5.633192939932797\n",
      "Dataset 23 --> Minimum Error: 5.601282357948267\n",
      "Dataset 24 --> Minimum Error: 5.595573198745436\n",
      "Dataset 25 --> Minimum Error: 5.608280626031203\n",
      "Dataset 26 --> Minimum Error: 5.564322150191827\n",
      "Dataset 27 --> Minimum Error: 5.58546016121339\n",
      "Dataset 28 --> Minimum Error: 5.68011848207629\n",
      "Dataset 29 --> Minimum Error: 5.667810211183618\n",
      "Dataset 30 --> Minimum Error: 5.640463194320425\n",
      "Dataset 31 --> Minimum Error: 5.588444882248276\n",
      "Dataset 32 --> Minimum Error: 5.635274744787399\n",
      "Dataset 33 --> Minimum Error: 5.621152033897825\n",
      "Dataset 34 --> Minimum Error: 5.587371862308847\n",
      "Dataset 35 --> Minimum Error: 5.539582193858269\n",
      "Dataset 36 --> Minimum Error: 5.649368373948592\n",
      "Dataset 37 --> Minimum Error: 5.591812840945024\n",
      "Dataset 38 --> Minimum Error: 5.533649334172449\n",
      "Dataset 39 --> Minimum Error: 5.4881185170594975\n",
      "Dataset 40 --> Minimum Error: 5.725480857286584\n",
      "Dataset 41 --> Minimum Error: 5.555135530427648\n",
      "Dataset 42 --> Minimum Error: 5.5289583441282035\n",
      "Dataset 43 --> Minimum Error: 5.480353248663434\n",
      "Dataset 44 --> Minimum Error: 5.709797336526295\n",
      "Dataset 45 --> Minimum Error: 5.544751489832796\n",
      "Dataset 46 --> Minimum Error: 5.513666260731243\n",
      "Dataset 47 --> Minimum Error: 5.459937953730755\n",
      "Dataset 48 --> Minimum Error: 6.037732304776114\n",
      "Dataset 49 --> Minimum Error: 6.014294488384017\n",
      "Dataset 50 --> Minimum Error: 6.00717259615759\n",
      "Dataset 51 --> Minimum Error: 6.000996070553498\n",
      "Dataset 52 --> Minimum Error: 5.776313066956795\n",
      "Dataset 53 --> Minimum Error: 5.783545190385654\n",
      "Dataset 54 --> Minimum Error: 5.7487012385925\n",
      "Dataset 55 --> Minimum Error: 5.722515223978987\n",
      "Dataset 56 --> Minimum Error: 5.436046000807423\n",
      "Dataset 57 --> Minimum Error: 5.396022484806336\n",
      "Dataset 58 --> Minimum Error: 5.41569383108877\n",
      "Dataset 59 --> Minimum Error: 5.41216791127166\n",
      "Dataset 60 --> Minimum Error: 5.4989143283485244\n",
      "Dataset 61 --> Minimum Error: 5.420766209572195\n",
      "Dataset 62 --> Minimum Error: 5.410300064993921\n",
      "Dataset 63 --> Minimum Error: 5.408183268065843\n",
      "Dataset 64 --> Minimum Error: 5.489479313191685\n",
      "Dataset 65 --> Minimum Error: 5.422081541713016\n",
      "Dataset 66 --> Minimum Error: 5.404494728848181\n",
      "Dataset 67 --> Minimum Error: 5.389729593172724\n",
      "Dataset 68 --> Minimum Error: 5.43906816332626\n",
      "Dataset 69 --> Minimum Error: 5.35881713841119\n",
      "Dataset 70 --> Minimum Error: 5.340776726742632\n",
      "Dataset 71 --> Minimum Error: 5.37271381243251\n",
      "Dataset 72 --> Minimum Error: 5.450171811659276\n",
      "Dataset 73 --> Minimum Error: 5.351166515343335\n",
      "Dataset 74 --> Minimum Error: 5.352335131130609\n",
      "Dataset 75 --> Minimum Error: 5.367956349291575\n",
      "Dataset 76 --> Minimum Error: 5.616658896171439\n",
      "Dataset 77 --> Minimum Error: 5.621953778131681\n",
      "Dataset 78 --> Minimum Error: 5.526921821664681\n",
      "Dataset 79 --> Minimum Error: 5.483258090115035\n",
      "Dataset 80 --> Minimum Error: 5.430207859703588\n",
      "Dataset 81 --> Minimum Error: 5.446066947309244\n",
      "Dataset 82 --> Minimum Error: 5.415342731768826\n",
      "Dataset 83 --> Minimum Error: 5.4214815522061315\n",
      "Dataset 84 --> Minimum Error: 5.63119670965342\n",
      "Dataset 85 --> Minimum Error: 5.608458103266061\n",
      "Dataset 86 --> Minimum Error: 5.5603954003640155\n",
      "Dataset 87 --> Minimum Error: 5.515956509972732\n",
      "Dataset 88 --> Minimum Error: 5.685653475840203\n",
      "Dataset 89 --> Minimum Error: 5.5737352270082035\n",
      "Dataset 90 --> Minimum Error: 5.522399884074915\n",
      "Dataset 91 --> Minimum Error: 5.485325736303581\n",
      "Dataset 92 --> Minimum Error: 5.713551073880106\n",
      "Dataset 93 --> Minimum Error: 5.533699242203367\n",
      "Dataset 94 --> Minimum Error: 5.52020438518896\n",
      "Dataset 95 --> Minimum Error: 5.467225581006458\n",
      "Dataset 96 --> Minimum Error: 5.678039666463183\n",
      "Dataset 97 --> Minimum Error: 5.545236896849987\n",
      "Dataset 98 --> Minimum Error: 5.504743425484747\n",
      "Dataset 99 --> Minimum Error: 5.453936971794139\n",
      "Dataset 100 --> Minimum Error: 5.695740364771863\n",
      "Dataset 101 --> Minimum Error: 5.57048040820162\n",
      "Dataset 102 --> Minimum Error: 5.466879789745022\n",
      "Dataset 103 --> Minimum Error: 5.436726267620356\n",
      "Dataset 104 --> Minimum Error: 5.901780895639927\n",
      "Dataset 105 --> Minimum Error: 5.895531176013418\n",
      "Dataset 106 --> Minimum Error: 5.876467268307755\n",
      "Dataset 107 --> Minimum Error: 5.86018947310679\n",
      "Dataset 108 --> Minimum Error: 5.719646944365479\n",
      "Dataset 109 --> Minimum Error: 5.679529495680519\n",
      "Dataset 110 --> Minimum Error: 5.677422504560738\n",
      "Dataset 111 --> Minimum Error: 5.634871273743845\n",
      "Best result: 5.340776726742632\n",
      "Best dataset: (70, DotProduct(sigma_0=1))\n"
     ]
    }
   ],
   "source": [
    "from sklearn.gaussian_process import GaussianProcessRegressor\n",
    "from sklearn.gaussian_process.kernels import DotProduct, WhiteKernel, RBF\n",
    "from sklearn.metrics import mean_absolute_error, r2_score\n",
    "from sklearn.model_selection import cross_val_score\n",
    "\n",
    "results = {}\n",
    "\n",
    "# Run extensive grid search\n",
    "for idx, dataset in enumerate(datasets):\n",
    "    \n",
    "    X_train1, y_train1, X_test1, y_test1, X_train2, y_train2, X_test2, y_test2 = dataset\n",
    "    av_per_dataset = []\n",
    "    \n",
    "    for kernel in [DotProduct(), WhiteKernel(), RBF()]:\n",
    "        \n",
    "\n",
    "            clf = GaussianProcessRegressor(kernel=kernel, alpha=2.5, random_state=0)\n",
    "\n",
    "            for cv in range(1, 3):\n",
    "                if cv == 1:\n",
    "                    clf.fit(X_train1, y_train1)\n",
    "                    y_pred1 = clf.predict(X_test1)\n",
    "                    mean1 = mean_absolute_error(y_test1, y_pred1)\n",
    "\n",
    "                else:\n",
    "                    clf.fit(X_train2, y_train2)\n",
    "                    y_pred2 = clf.predict(X_test2)\n",
    "                    mean2 = mean_absolute_error(y_test2, y_pred2)\n",
    "\n",
    "            mean_error = (mean1 + mean2) / 2\n",
    "            results[mean_error] = (idx, kernel)\n",
    "            av_per_dataset.append(mean_error)\n",
    "            \n",
    "    print('Dataset {} --> Minimum Error: {}'.format(idx, np.min(av_per_dataset)))\n",
    "    \n",
    "best_error = np.min(list(results.keys()))\n",
    "print('Best result: {}'.format(best_error))\n",
    "print('Best dataset: {}'.format(results[best_error]))"
   ]
  },
  {
   "cell_type": "code",
   "execution_count": null,
   "metadata": {},
   "outputs": [],
   "source": []
  },
  {
   "cell_type": "markdown",
   "metadata": {},
   "source": [
    "# 4. Adaboost"
   ]
  },
  {
   "cell_type": "code",
   "execution_count": 61,
   "metadata": {
    "scrolled": true
   },
   "outputs": [
    {
     "name": "stdout",
     "output_type": "stream",
     "text": [
      "Dataset 0 --> Minimum Error: 7.580847103068601\n",
      "Dataset 1 --> Minimum Error: 7.607674322522606\n",
      "Dataset 2 --> Minimum Error: 7.6728705953301475\n",
      "Dataset 3 --> Minimum Error: 7.703041561229206\n",
      "Dataset 4 --> Minimum Error: 7.728791871041337\n",
      "Dataset 5 --> Minimum Error: 7.720767270517097\n",
      "Dataset 6 --> Minimum Error: 7.774317607680176\n",
      "Dataset 7 --> Minimum Error: 7.7612593915327786\n",
      "Dataset 8 --> Minimum Error: 7.60114602924336\n",
      "Dataset 9 --> Minimum Error: 7.5993802398185775\n",
      "Dataset 10 --> Minimum Error: 7.565890316636358\n",
      "Dataset 11 --> Minimum Error: 7.618729752286193\n",
      "Dataset 12 --> Minimum Error: 7.739004909686235\n",
      "Dataset 13 --> Minimum Error: 7.781190604499638\n",
      "Dataset 14 --> Minimum Error: 7.777440607032206\n",
      "Dataset 15 --> Minimum Error: 7.855088800719192\n",
      "Dataset 16 --> Minimum Error: 7.591449746961828\n",
      "Dataset 17 --> Minimum Error: 7.653651051399937\n",
      "Dataset 18 --> Minimum Error: 7.6975725856927735\n",
      "Dataset 19 --> Minimum Error: 7.796904802232534\n",
      "Dataset 20 --> Minimum Error: 7.901674240296836\n",
      "Dataset 21 --> Minimum Error: 7.9486471638448695\n",
      "Dataset 22 --> Minimum Error: 7.927474665029293\n",
      "Dataset 23 --> Minimum Error: 7.94351278923153\n",
      "Dataset 24 --> Minimum Error: 7.750397445873281\n",
      "Dataset 25 --> Minimum Error: 7.823603291644718\n",
      "Dataset 26 --> Minimum Error: 7.865330395263446\n",
      "Dataset 27 --> Minimum Error: 7.9684307088029644\n",
      "Dataset 28 --> Minimum Error: 7.372148480226169\n",
      "Dataset 29 --> Minimum Error: 7.385108254835201\n",
      "Dataset 30 --> Minimum Error: 7.441569541824331\n",
      "Dataset 31 --> Minimum Error: 7.322218003436001\n",
      "Dataset 32 --> Minimum Error: 7.4252105116339555\n",
      "Dataset 33 --> Minimum Error: 7.419390870243452\n",
      "Dataset 34 --> Minimum Error: 7.353678949161269\n",
      "Dataset 35 --> Minimum Error: 7.373940957272421\n",
      "Dataset 36 --> Minimum Error: 7.221717717772659\n",
      "Dataset 37 --> Minimum Error: 7.221067036991466\n",
      "Dataset 38 --> Minimum Error: 7.2245703687118095\n",
      "Dataset 39 --> Minimum Error: 7.315038281046377\n",
      "Dataset 40 --> Minimum Error: 7.127955397968361\n",
      "Dataset 41 --> Minimum Error: 7.2371274531057335\n",
      "Dataset 42 --> Minimum Error: 7.166646491462986\n",
      "Dataset 43 --> Minimum Error: 7.220968844363564\n",
      "Dataset 44 --> Minimum Error: 7.2184434749682005\n",
      "Dataset 45 --> Minimum Error: 7.304240173968834\n",
      "Dataset 46 --> Minimum Error: 7.318472876400697\n",
      "Dataset 47 --> Minimum Error: 7.339546051513061\n",
      "Dataset 48 --> Minimum Error: 7.762192955797111\n",
      "Dataset 49 --> Minimum Error: 7.6833625446800315\n",
      "Dataset 50 --> Minimum Error: 7.595394155419678\n",
      "Dataset 51 --> Minimum Error: 7.683735016820594\n",
      "Dataset 52 --> Minimum Error: 7.415916809084135\n",
      "Dataset 53 --> Minimum Error: 7.376488053960859\n",
      "Dataset 54 --> Minimum Error: 7.425386641930476\n",
      "Dataset 55 --> Minimum Error: 7.412409077002107\n",
      "Dataset 56 --> Minimum Error: 7.654726261467652\n",
      "Dataset 57 --> Minimum Error: 7.667808399032653\n",
      "Dataset 58 --> Minimum Error: 7.743547202547906\n",
      "Dataset 59 --> Minimum Error: 7.727481337373772\n",
      "Dataset 60 --> Minimum Error: 7.60083881420579\n",
      "Dataset 61 --> Minimum Error: 7.720056190950455\n",
      "Dataset 62 --> Minimum Error: 7.645408973410229\n",
      "Dataset 63 --> Minimum Error: 7.69690138069191\n",
      "Dataset 64 --> Minimum Error: 7.616623213942021\n",
      "Dataset 65 --> Minimum Error: 7.6274754171948285\n",
      "Dataset 66 --> Minimum Error: 7.665809272249059\n",
      "Dataset 67 --> Minimum Error: 7.787545016331826\n",
      "Dataset 68 --> Minimum Error: 7.559219809764705\n",
      "Dataset 69 --> Minimum Error: 7.6221935682563196\n",
      "Dataset 70 --> Minimum Error: 7.614037525105667\n",
      "Dataset 71 --> Minimum Error: 7.696046801372026\n",
      "Dataset 72 --> Minimum Error: 7.721649132401626\n",
      "Dataset 73 --> Minimum Error: 7.787926582764021\n",
      "Dataset 74 --> Minimum Error: 7.81128335379005\n",
      "Dataset 75 --> Minimum Error: 7.820066703167891\n",
      "Dataset 76 --> Minimum Error: 7.661664435247558\n",
      "Dataset 77 --> Minimum Error: 7.691608996493761\n",
      "Dataset 78 --> Minimum Error: 7.694240529507711\n",
      "Dataset 79 --> Minimum Error: 7.669429008378373\n",
      "Dataset 80 --> Minimum Error: 7.7495019313009035\n",
      "Dataset 81 --> Minimum Error: 7.692161485399902\n",
      "Dataset 82 --> Minimum Error: 7.69552025644343\n",
      "Dataset 83 --> Minimum Error: 7.873597508336117\n",
      "Dataset 84 --> Minimum Error: 7.247002348931744\n",
      "Dataset 85 --> Minimum Error: 7.219804557697194\n",
      "Dataset 86 --> Minimum Error: 7.277255659082422\n",
      "Dataset 87 --> Minimum Error: 7.306455348961681\n",
      "Dataset 88 --> Minimum Error: 7.356339316013623\n",
      "Dataset 89 --> Minimum Error: 7.258632490368712\n",
      "Dataset 90 --> Minimum Error: 7.282778838198359\n",
      "Dataset 91 --> Minimum Error: 7.378838511670595\n",
      "Dataset 92 --> Minimum Error: 7.4425317764534675\n",
      "Dataset 93 --> Minimum Error: 7.400675924313594\n",
      "Dataset 94 --> Minimum Error: 7.401871395466928\n",
      "Dataset 95 --> Minimum Error: 7.326143802668695\n",
      "Dataset 96 --> Minimum Error: 7.021343411618096\n",
      "Dataset 97 --> Minimum Error: 7.17684852938325\n",
      "Dataset 98 --> Minimum Error: 7.239574618159466\n",
      "Dataset 99 --> Minimum Error: 7.267214240007082\n",
      "Dataset 100 --> Minimum Error: 7.17038264300972\n",
      "Dataset 101 --> Minimum Error: 7.184548641824897\n",
      "Dataset 102 --> Minimum Error: 7.388979448498176\n",
      "Dataset 103 --> Minimum Error: 7.370125649997024\n",
      "Dataset 104 --> Minimum Error: 7.555108127982589\n",
      "Dataset 105 --> Minimum Error: 7.679510315310144\n",
      "Dataset 106 --> Minimum Error: 7.6236401848222695\n",
      "Dataset 107 --> Minimum Error: 7.579090538181758\n",
      "Dataset 108 --> Minimum Error: 7.568480379079329\n",
      "Dataset 109 --> Minimum Error: 7.552303326999923\n",
      "Dataset 110 --> Minimum Error: 7.485907393621173\n",
      "Dataset 111 --> Minimum Error: 7.449350367073864\n",
      "Best result: 6.32937382786692\n",
      "Best dataset: (96, 200, 2, 'ls')\n"
     ]
    }
   ],
   "source": [
    "from sklearn.ensemble import GradientBoostingRegressor\n",
    "from sklearn.metrics import mean_absolute_error, r2_score\n",
    "from sklearn.model_selection import cross_val_score\n",
    "\n",
    "results = {}\n",
    "\n",
    "# Run extensive grid search\n",
    "for idx, dataset in enumerate(datasets):\n",
    "    \n",
    "    X_train1, y_train1, X_test1, y_test1, X_train2, y_train2, X_test2, y_test2 = dataset\n",
    "    av_per_dataset = []\n",
    "    \n",
    "    for n_estimators in [50, 100, 150, 200]:\n",
    "        for max_depth in [1, 2, 10, 50]:\n",
    "            for loss in ['ls', 'lad']:\n",
    "\n",
    "                clf = GradientBoostingRegressor(n_estimators=n_estimators, learning_rate=0.1, max_depth=max_depth, random_state=0, loss=loss)\n",
    "\n",
    "                for cv in range(1, 3):\n",
    "                    if cv == 1:\n",
    "                        clf.fit(X_train1, y_train1)\n",
    "                        y_pred1 = clf.predict(X_test1)\n",
    "                        mean1 = mean_absolute_error(y_test1, y_pred1)\n",
    "\n",
    "                    else:\n",
    "                        clf.fit(X_train2, y_train2)\n",
    "                        y_pred2 = clf.predict(X_test2)\n",
    "                        mean2 = mean_absolute_error(y_test2, y_pred2)\n",
    "\n",
    "                mean_error = (mean1 + mean2) / 2\n",
    "                results[mean_error] = (idx, n_estimators, max_depth, loss)\n",
    "                av_per_dataset.append(mean_error)\n",
    "            \n",
    "    print('Dataset {} --> Minimum Error: {}'.format(idx, np.mean(av_per_dataset)))\n",
    "    \n",
    "best_error = np.min(list(results.keys()))\n",
    "print('Best result: {}'.format(best_error))\n",
    "print('Best dataset: {}'.format(results[best_error]))"
   ]
  },
  {
   "cell_type": "markdown",
   "metadata": {},
   "source": [
    "# 5. ElasticNet"
   ]
  },
  {
   "cell_type": "code",
   "execution_count": 62,
   "metadata": {},
   "outputs": [
    {
     "name": "stdout",
     "output_type": "stream",
     "text": [
      "Dataset 0 --> Minimum Error: 5.414564022064209\n",
      "Dataset 1 --> Minimum Error: 5.408758647918701\n",
      "Dataset 2 --> Minimum Error: 5.414515266418457\n",
      "Dataset 3 --> Minimum Error: 5.4302572059631355\n",
      "Dataset 4 --> Minimum Error: 5.399191265106201\n",
      "Dataset 5 --> Minimum Error: 5.400780704498291\n",
      "Dataset 6 --> Minimum Error: 5.402637393951416\n",
      "Dataset 7 --> Minimum Error: 5.40775496673584\n",
      "Dataset 8 --> Minimum Error: 5.420924827575684\n",
      "Dataset 9 --> Minimum Error: 5.377507587432861\n",
      "Dataset 10 --> Minimum Error: 5.383684936523437\n",
      "Dataset 11 --> Minimum Error: 5.396484432220459\n",
      "Dataset 12 --> Minimum Error: 5.431288661956787\n",
      "Dataset 13 --> Minimum Error: 5.368023735046387\n",
      "Dataset 14 --> Minimum Error: 5.363105068206787\n",
      "Dataset 15 --> Minimum Error: 5.383374114990234\n",
      "Dataset 16 --> Minimum Error: 5.43862191772461\n",
      "Dataset 17 --> Minimum Error: 5.362156158447266\n",
      "Dataset 18 --> Minimum Error: 5.348048351287842\n",
      "Dataset 19 --> Minimum Error: 5.372354221343993\n",
      "Dataset 20 --> Minimum Error: 5.570928226470947\n",
      "Dataset 21 --> Minimum Error: 5.576761775970459\n",
      "Dataset 22 --> Minimum Error: 5.548748752593994\n",
      "Dataset 23 --> Minimum Error: 5.554343490600585\n",
      "Dataset 24 --> Minimum Error: 5.46292444229126\n",
      "Dataset 25 --> Minimum Error: 5.4612599334716805\n",
      "Dataset 26 --> Minimum Error: 5.446729721069336\n",
      "Dataset 27 --> Minimum Error: 5.46719426727295\n",
      "Dataset 28 --> Minimum Error: 5.896468719482422\n",
      "Dataset 29 --> Minimum Error: 5.889204154968262\n",
      "Dataset 30 --> Minimum Error: 5.886663772583008\n",
      "Dataset 31 --> Minimum Error: 5.857838474273682\n",
      "Dataset 32 --> Minimum Error: 5.843886722564697\n",
      "Dataset 33 --> Minimum Error: 5.830611465454101\n",
      "Dataset 34 --> Minimum Error: 5.8324486427307125\n",
      "Dataset 35 --> Minimum Error: 5.811956401824951\n",
      "Dataset 36 --> Minimum Error: 5.887673496246338\n",
      "Dataset 37 --> Minimum Error: 5.85199568939209\n",
      "Dataset 38 --> Minimum Error: 5.841508525848389\n",
      "Dataset 39 --> Minimum Error: 5.826266147613525\n",
      "Dataset 40 --> Minimum Error: 5.9286671714782715\n",
      "Dataset 41 --> Minimum Error: 5.856247791290283\n",
      "Dataset 42 --> Minimum Error: 5.849325424194336\n",
      "Dataset 43 --> Minimum Error: 5.834611965179443\n",
      "Dataset 44 --> Minimum Error: 5.96165161895752\n",
      "Dataset 45 --> Minimum Error: 5.916098335266113\n",
      "Dataset 46 --> Minimum Error: 5.909494327545167\n",
      "Dataset 47 --> Minimum Error: 5.8983853263854975\n",
      "Dataset 48 --> Minimum Error: 6.082501293182373\n",
      "Dataset 49 --> Minimum Error: 6.065853305816651\n",
      "Dataset 50 --> Minimum Error: 6.062211273193359\n",
      "Dataset 51 --> Minimum Error: 6.0546247825622554\n",
      "Dataset 52 --> Minimum Error: 5.903844875335693\n",
      "Dataset 53 --> Minimum Error: 5.905880786895752\n",
      "Dataset 54 --> Minimum Error: 5.887692302703858\n",
      "Dataset 55 --> Minimum Error: 5.868709331512451\n",
      "Dataset 56 --> Minimum Error: 5.373542900085449\n",
      "Dataset 57 --> Minimum Error: 5.315272579193115\n",
      "Dataset 58 --> Minimum Error: 5.344793125152588\n",
      "Dataset 59 --> Minimum Error: 5.346156883239747\n",
      "Dataset 60 --> Minimum Error: 5.40443416595459\n",
      "Dataset 61 --> Minimum Error: 5.31395484161377\n",
      "Dataset 62 --> Minimum Error: 5.325578128814698\n",
      "Dataset 63 --> Minimum Error: 5.324326641082763\n",
      "Dataset 64 --> Minimum Error: 5.398622398376465\n",
      "Dataset 65 --> Minimum Error: 5.307808837890625\n",
      "Dataset 66 --> Minimum Error: 5.307516983032227\n",
      "Dataset 67 --> Minimum Error: 5.319155574798584\n",
      "Dataset 68 --> Minimum Error: 5.386324085235596\n",
      "Dataset 69 --> Minimum Error: 5.306320217132568\n",
      "Dataset 70 --> Minimum Error: 5.300849414825439\n",
      "Dataset 71 --> Minimum Error: 5.317789619445801\n",
      "Dataset 72 --> Minimum Error: 5.39559400177002\n",
      "Dataset 73 --> Minimum Error: 5.308427940368652\n",
      "Dataset 74 --> Minimum Error: 5.295349674224854\n",
      "Dataset 75 --> Minimum Error: 5.319627494812012\n",
      "Dataset 76 --> Minimum Error: 5.4114901771545405\n",
      "Dataset 77 --> Minimum Error: 5.4059582061767575\n",
      "Dataset 78 --> Minimum Error: 5.405729469299317\n",
      "Dataset 79 --> Minimum Error: 5.397615798950195\n",
      "Dataset 80 --> Minimum Error: 5.3570255813598635\n",
      "Dataset 81 --> Minimum Error: 5.347369815826416\n",
      "Dataset 82 --> Minimum Error: 5.36188346862793\n",
      "Dataset 83 --> Minimum Error: 5.36589533996582\n",
      "Dataset 84 --> Minimum Error: 5.8668645477294925\n",
      "Dataset 85 --> Minimum Error: 5.851323787689209\n",
      "Dataset 86 --> Minimum Error: 5.846331638336181\n",
      "Dataset 87 --> Minimum Error: 5.831442291259766\n",
      "Dataset 88 --> Minimum Error: 5.892035984039307\n",
      "Dataset 89 --> Minimum Error: 5.836934154510498\n",
      "Dataset 90 --> Minimum Error: 5.82949291229248\n",
      "Dataset 91 --> Minimum Error: 5.81660663986206\n",
      "Dataset 92 --> Minimum Error: 5.947348880767822\n",
      "Dataset 93 --> Minimum Error: 5.88525772857666\n",
      "Dataset 94 --> Minimum Error: 5.885696582794189\n",
      "Dataset 95 --> Minimum Error: 5.873390407562256\n",
      "Dataset 96 --> Minimum Error: 5.971276081085205\n",
      "Dataset 97 --> Minimum Error: 5.935331707000733\n",
      "Dataset 98 --> Minimum Error: 5.92641374206543\n",
      "Dataset 99 --> Minimum Error: 5.922254314422608\n",
      "Dataset 100 --> Minimum Error: 5.964109535217284\n",
      "Dataset 101 --> Minimum Error: 5.942487033843994\n",
      "Dataset 102 --> Minimum Error: 5.930463165283203\n",
      "Dataset 103 --> Minimum Error: 5.923420612335205\n",
      "Dataset 104 --> Minimum Error: 5.959093639373779\n",
      "Dataset 105 --> Minimum Error: 5.95241413116455\n",
      "Dataset 106 --> Minimum Error: 5.939280681610107\n",
      "Dataset 107 --> Minimum Error: 5.919440883636474\n",
      "Dataset 108 --> Minimum Error: 5.908292419433593\n",
      "Dataset 109 --> Minimum Error: 5.893319347381592\n",
      "Dataset 110 --> Minimum Error: 5.888431083679199\n",
      "Dataset 111 --> Minimum Error: 5.858333770751953\n",
      "Best result: 5.295349674224854\n",
      "Best dataset: 74\n"
     ]
    }
   ],
   "source": [
    "from sklearn.linear_model import ElasticNet\n",
    "from sklearn.metrics import mean_absolute_error, r2_score\n",
    "from sklearn.model_selection import cross_val_score\n",
    "\n",
    "results = {}\n",
    "\n",
    "# Run extensive grid search\n",
    "for idx, dataset in enumerate(datasets):\n",
    "    \n",
    "    X_train1, y_train1, X_test1, y_test1, X_train2, y_train2, X_test2, y_test2 = dataset\n",
    "    av_per_dataset = []\n",
    "\n",
    "    clf = ElasticNet(random_state=0)\n",
    "\n",
    "    for cv in range(1, 3):\n",
    "        if cv == 1:\n",
    "            clf.fit(X_train1, y_train1)\n",
    "            y_pred1 = clf.predict(X_test1)\n",
    "            mean1 = mean_absolute_error(y_test1, y_pred1)\n",
    "\n",
    "        else:\n",
    "            clf.fit(X_train2, y_train2)\n",
    "            y_pred2 = clf.predict(X_test2)\n",
    "            mean2 = mean_absolute_error(y_test2, y_pred2)\n",
    "\n",
    "    mean_error = (mean1 + mean2) / 2\n",
    "    results[mean_error] = (idx)\n",
    "    av_per_dataset.append(mean_error)\n",
    "            \n",
    "    print('Dataset {} --> Minimum Error: {}'.format(idx, np.mean(av_per_dataset)))\n",
    "    \n",
    "best_error = np.min(list(results.keys()))\n",
    "print('Best result: {}'.format(best_error))\n",
    "print('Best dataset: {}'.format(results[best_error]))"
   ]
  },
  {
   "cell_type": "markdown",
   "metadata": {},
   "source": [
    "# 6. Ridge Regression"
   ]
  },
  {
   "cell_type": "code",
   "execution_count": 63,
   "metadata": {
    "scrolled": true
   },
   "outputs": [
    {
     "name": "stdout",
     "output_type": "stream",
     "text": [
      "Dataset 0 --> Minimum Error: 5.408331184387206\n",
      "Dataset 1 --> Minimum Error: 5.403614073944093\n",
      "Dataset 2 --> Minimum Error: 5.410875025939941\n",
      "Dataset 3 --> Minimum Error: 5.4274887992858885\n",
      "Dataset 4 --> Minimum Error: 5.393387297821045\n",
      "Dataset 5 --> Minimum Error: 5.395391487121581\n",
      "Dataset 6 --> Minimum Error: 5.399073442840576\n",
      "Dataset 7 --> Minimum Error: 5.403342036437988\n",
      "Dataset 8 --> Minimum Error: 5.413015605926514\n",
      "Dataset 9 --> Minimum Error: 5.370199993896485\n",
      "Dataset 10 --> Minimum Error: 5.377205645751953\n",
      "Dataset 11 --> Minimum Error: 5.388079521942139\n",
      "Dataset 12 --> Minimum Error: 5.425931331634521\n",
      "Dataset 13 --> Minimum Error: 5.361802004241943\n",
      "Dataset 14 --> Minimum Error: 5.3572384658813474\n",
      "Dataset 15 --> Minimum Error: 5.3773957435607915\n",
      "Dataset 16 --> Minimum Error: 5.429965057373048\n",
      "Dataset 17 --> Minimum Error: 5.350098393249512\n",
      "Dataset 18 --> Minimum Error: 5.335946710968018\n",
      "Dataset 19 --> Minimum Error: 5.360987696075439\n",
      "Dataset 20 --> Minimum Error: 5.56671703491211\n",
      "Dataset 21 --> Minimum Error: 5.572858111572265\n",
      "Dataset 22 --> Minimum Error: 5.544199593353271\n",
      "Dataset 23 --> Minimum Error: 5.550085021209717\n",
      "Dataset 24 --> Minimum Error: 5.4571915504455575\n",
      "Dataset 25 --> Minimum Error: 5.455307614135742\n",
      "Dataset 26 --> Minimum Error: 5.441148452758789\n",
      "Dataset 27 --> Minimum Error: 5.4625000999450695\n",
      "Dataset 28 --> Minimum Error: 5.625234890747069\n",
      "Dataset 29 --> Minimum Error: 5.607084384918214\n",
      "Dataset 30 --> Minimum Error: 5.58179928817749\n",
      "Dataset 31 --> Minimum Error: 5.52242798461914\n",
      "Dataset 32 --> Minimum Error: 5.57541586151123\n",
      "Dataset 33 --> Minimum Error: 5.561632814025879\n",
      "Dataset 34 --> Minimum Error: 5.529833909606934\n",
      "Dataset 35 --> Minimum Error: 5.4710036071777335\n",
      "Dataset 36 --> Minimum Error: 5.591677953338623\n",
      "Dataset 37 --> Minimum Error: 5.531402724456788\n",
      "Dataset 38 --> Minimum Error: 5.479854774475098\n",
      "Dataset 39 --> Minimum Error: 5.425193918609619\n",
      "Dataset 40 --> Minimum Error: 5.661144239807129\n",
      "Dataset 41 --> Minimum Error: 5.498496122741699\n",
      "Dataset 42 --> Minimum Error: 5.473493085479737\n",
      "Dataset 43 --> Minimum Error: 5.410992643737794\n",
      "Dataset 44 --> Minimum Error: 5.648363071441651\n",
      "Dataset 45 --> Minimum Error: 5.48514227142334\n",
      "Dataset 46 --> Minimum Error: 5.453383197021484\n",
      "Dataset 47 --> Minimum Error: 5.394490223693848\n",
      "Dataset 48 --> Minimum Error: 5.981140441131592\n",
      "Dataset 49 --> Minimum Error: 5.956264526367188\n",
      "Dataset 50 --> Minimum Error: 5.948390002441407\n",
      "Dataset 51 --> Minimum Error: 5.939994139862061\n",
      "Dataset 52 --> Minimum Error: 5.7212089233398435\n",
      "Dataset 53 --> Minimum Error: 5.7200510192871095\n",
      "Dataset 54 --> Minimum Error: 5.684354322052002\n",
      "Dataset 55 --> Minimum Error: 5.657016117858887\n",
      "Dataset 56 --> Minimum Error: 5.363717543792724\n",
      "Dataset 57 --> Minimum Error: 5.302523843383789\n",
      "Dataset 58 --> Minimum Error: 5.333932675170899\n",
      "Dataset 59 --> Minimum Error: 5.335370256042481\n",
      "Dataset 60 --> Minimum Error: 5.39849722442627\n",
      "Dataset 61 --> Minimum Error: 5.3041978981018065\n",
      "Dataset 62 --> Minimum Error: 5.316566458129882\n",
      "Dataset 63 --> Minimum Error: 5.316773454284667\n",
      "Dataset 64 --> Minimum Error: 5.394111275482177\n",
      "Dataset 65 --> Minimum Error: 5.300441582489013\n",
      "Dataset 66 --> Minimum Error: 5.300121015167237\n",
      "Dataset 67 --> Minimum Error: 5.3114269317626945\n",
      "Dataset 68 --> Minimum Error: 5.37835809173584\n",
      "Dataset 69 --> Minimum Error: 5.295220819854736\n",
      "Dataset 70 --> Minimum Error: 5.2931860618591315\n",
      "Dataset 71 --> Minimum Error: 5.310714582061768\n",
      "Dataset 72 --> Minimum Error: 5.381419695281982\n",
      "Dataset 73 --> Minimum Error: 5.291549147033692\n",
      "Dataset 74 --> Minimum Error: 5.279026374053955\n",
      "Dataset 75 --> Minimum Error: 5.307323045349121\n",
      "Dataset 76 --> Minimum Error: 5.404468595886231\n",
      "Dataset 77 --> Minimum Error: 5.3994446403503416\n",
      "Dataset 78 --> Minimum Error: 5.399984627532959\n",
      "Dataset 79 --> Minimum Error: 5.39224797821045\n",
      "Dataset 80 --> Minimum Error: 5.346547070312501\n",
      "Dataset 81 --> Minimum Error: 5.337531349945069\n",
      "Dataset 82 --> Minimum Error: 5.354006998443603\n",
      "Dataset 83 --> Minimum Error: 5.356846027374267\n",
      "Dataset 84 --> Minimum Error: 5.572451593017578\n",
      "Dataset 85 --> Minimum Error: 5.5525613739013675\n",
      "Dataset 86 --> Minimum Error: 5.506310720062255\n",
      "Dataset 87 --> Minimum Error: 5.449849993896484\n",
      "Dataset 88 --> Minimum Error: 5.625965909576417\n",
      "Dataset 89 --> Minimum Error: 5.517290748596191\n",
      "Dataset 90 --> Minimum Error: 5.4682690605163575\n",
      "Dataset 91 --> Minimum Error: 5.4208038124084466\n",
      "Dataset 92 --> Minimum Error: 5.652340630340577\n",
      "Dataset 93 --> Minimum Error: 5.474238702392578\n",
      "Dataset 94 --> Minimum Error: 5.463931351470948\n",
      "Dataset 95 --> Minimum Error: 5.396922669982911\n",
      "Dataset 96 --> Minimum Error: 5.621454655456543\n",
      "Dataset 97 --> Minimum Error: 5.486274040985107\n",
      "Dataset 98 --> Minimum Error: 5.439471748352051\n",
      "Dataset 99 --> Minimum Error: 5.390861333465576\n",
      "Dataset 100 --> Minimum Error: 5.639696965026855\n",
      "Dataset 101 --> Minimum Error: 5.506050193786622\n",
      "Dataset 102 --> Minimum Error: 5.40761390991211\n",
      "Dataset 103 --> Minimum Error: 5.372408798217774\n",
      "Dataset 104 --> Minimum Error: 5.839355558776854\n",
      "Dataset 105 --> Minimum Error: 5.8345876502990714\n",
      "Dataset 106 --> Minimum Error: 5.813103423309326\n",
      "Dataset 107 --> Minimum Error: 5.796991040039062\n",
      "Dataset 108 --> Minimum Error: 5.665388928985595\n",
      "Dataset 109 --> Minimum Error: 5.621794323730468\n",
      "Dataset 110 --> Minimum Error: 5.6132848350524895\n",
      "Dataset 111 --> Minimum Error: 5.5724298118591316\n",
      "Best result: 5.279020069122314\n",
      "Best dataset: 74\n"
     ]
    }
   ],
   "source": [
    "from sklearn.linear_model import Ridge\n",
    "from sklearn.metrics import mean_absolute_error, r2_score\n",
    "from sklearn.model_selection import cross_val_score\n",
    "\n",
    "results = {}\n",
    "\n",
    "# Run extensive grid search\n",
    "for idx, dataset in enumerate(datasets):\n",
    "    \n",
    "    X_train1, y_train1, X_test1, y_test1, X_train2, y_train2, X_test2, y_test2 = dataset\n",
    "    av_per_dataset = []\n",
    "    \n",
    "    for alpha in [0.01, 0.1, 1, 2, 10]:\n",
    "\n",
    "                clf = Ridge(alpha=alpha)\n",
    "\n",
    "                for cv in range(1, 3):\n",
    "                    if cv == 1:\n",
    "                        clf.fit(X_train1, y_train1)\n",
    "                        y_pred1 = clf.predict(X_test1)\n",
    "                        mean1 = mean_absolute_error(y_test1, y_pred1)\n",
    "\n",
    "                    else:\n",
    "                        clf.fit(X_train2, y_train2)\n",
    "                        y_pred2 = clf.predict(X_test2)\n",
    "                        mean2 = mean_absolute_error(y_test2, y_pred2)\n",
    "\n",
    "                mean_error = (mean1 + mean2) / 2\n",
    "                results[mean_error] = (idx)\n",
    "                av_per_dataset.append(mean_error)\n",
    "            \n",
    "    print('Dataset {} --> Minimum Error: {}'.format(idx, np.mean(av_per_dataset)))\n",
    "    \n",
    "best_error = np.min(list(results.keys()))\n",
    "print('Best result: {}'.format(best_error))\n",
    "print('Best dataset: {}'.format(results[best_error]))"
   ]
  },
  {
   "cell_type": "markdown",
   "metadata": {},
   "source": [
    "# 7. Lasso Regression"
   ]
  },
  {
   "cell_type": "code",
   "execution_count": 64,
   "metadata": {
    "scrolled": true
   },
   "outputs": [
    {
     "name": "stdout",
     "output_type": "stream",
     "text": [
      "Dataset 0 --> Minimum Error: 5.451950229644775\n",
      "Dataset 1 --> Minimum Error: 5.4458846115112305\n",
      "Dataset 2 --> Minimum Error: 5.449239321899414\n",
      "Dataset 3 --> Minimum Error: 5.464943202972412\n",
      "Dataset 4 --> Minimum Error: 5.446696116638184\n",
      "Dataset 5 --> Minimum Error: 5.447672121429444\n",
      "Dataset 6 --> Minimum Error: 5.446874278259277\n",
      "Dataset 7 --> Minimum Error: 5.452343980407716\n",
      "Dataset 8 --> Minimum Error: 5.469857907867431\n",
      "Dataset 9 --> Minimum Error: 5.431301292419434\n",
      "Dataset 10 --> Minimum Error: 5.434721024322511\n",
      "Dataset 11 --> Minimum Error: 5.447334926605225\n",
      "Dataset 12 --> Minimum Error: 5.479952114105225\n",
      "Dataset 13 --> Minimum Error: 5.424337221527099\n",
      "Dataset 14 --> Minimum Error: 5.419879647827149\n",
      "Dataset 15 --> Minimum Error: 5.437457080078126\n",
      "Dataset 16 --> Minimum Error: 5.492045195007324\n",
      "Dataset 17 --> Minimum Error: 5.426443319702149\n",
      "Dataset 18 --> Minimum Error: 5.414243183135987\n",
      "Dataset 19 --> Minimum Error: 5.432519254302979\n",
      "Dataset 20 --> Minimum Error: 5.591715050506592\n",
      "Dataset 21 --> Minimum Error: 5.597103076171875\n",
      "Dataset 22 --> Minimum Error: 5.571838494110107\n",
      "Dataset 23 --> Minimum Error: 5.575756531524658\n",
      "Dataset 24 --> Minimum Error: 5.494735448455811\n",
      "Dataset 25 --> Minimum Error: 5.49298097000122\n",
      "Dataset 26 --> Minimum Error: 5.477328414916992\n",
      "Dataset 27 --> Minimum Error: 5.49369439086914\n",
      "Dataset 28 --> Minimum Error: 6.220982265472412\n",
      "Dataset 29 --> Minimum Error: 6.212018174743652\n",
      "Dataset 30 --> Minimum Error: 6.2029228668212895\n",
      "Dataset 31 --> Minimum Error: 6.178637499999999\n",
      "Dataset 32 --> Minimum Error: 6.195105921173095\n",
      "Dataset 33 --> Minimum Error: 6.188798229980469\n",
      "Dataset 34 --> Minimum Error: 6.178095464324952\n",
      "Dataset 35 --> Minimum Error: 6.1551779113769545\n",
      "Dataset 36 --> Minimum Error: 6.201134461212158\n",
      "Dataset 37 --> Minimum Error: 6.173754174041748\n",
      "Dataset 38 --> Minimum Error: 6.155013184356689\n",
      "Dataset 39 --> Minimum Error: 6.1331539001464845\n",
      "Dataset 40 --> Minimum Error: 6.254318672180176\n",
      "Dataset 41 --> Minimum Error: 6.183952053833008\n",
      "Dataset 42 --> Minimum Error: 6.17398591079712\n",
      "Dataset 43 --> Minimum Error: 6.149957492828369\n",
      "Dataset 44 --> Minimum Error: 6.26873232345581\n",
      "Dataset 45 --> Minimum Error: 6.205812196350097\n",
      "Dataset 46 --> Minimum Error: 6.194044847869873\n",
      "Dataset 47 --> Minimum Error: 6.173185605621338\n",
      "Dataset 48 --> Minimum Error: 6.313612005615235\n",
      "Dataset 49 --> Minimum Error: 6.301078137207032\n",
      "Dataset 50 --> Minimum Error: 6.296800055694581\n",
      "Dataset 51 --> Minimum Error: 6.293259334564209\n",
      "Dataset 52 --> Minimum Error: 6.21439006729126\n",
      "Dataset 53 --> Minimum Error: 6.214524978637695\n",
      "Dataset 54 --> Minimum Error: 6.199104818725585\n",
      "Dataset 55 --> Minimum Error: 6.18622222366333\n",
      "Dataset 56 --> Minimum Error: 5.423260214996338\n",
      "Dataset 57 --> Minimum Error: 5.374766878509521\n",
      "Dataset 58 --> Minimum Error: 5.397077742004394\n",
      "Dataset 59 --> Minimum Error: 5.3984263725280766\n",
      "Dataset 60 --> Minimum Error: 5.446642041015626\n",
      "Dataset 61 --> Minimum Error: 5.372266928100586\n",
      "Dataset 62 --> Minimum Error: 5.380142601776123\n",
      "Dataset 63 --> Minimum Error: 5.379527653503418\n",
      "Dataset 64 --> Minimum Error: 5.446587502288819\n",
      "Dataset 65 --> Minimum Error: 5.372979220581055\n",
      "Dataset 66 --> Minimum Error: 5.3713971076965334\n",
      "Dataset 67 --> Minimum Error: 5.379500344085693\n",
      "Dataset 68 --> Minimum Error: 5.451114859008789\n",
      "Dataset 69 --> Minimum Error: 5.387678652954102\n",
      "Dataset 70 --> Minimum Error: 5.38196217956543\n",
      "Dataset 71 --> Minimum Error: 5.395936848449707\n",
      "Dataset 72 --> Minimum Error: 5.474426254272461\n",
      "Dataset 73 --> Minimum Error: 5.4032812011718745\n",
      "Dataset 74 --> Minimum Error: 5.3929089668273935\n",
      "Dataset 75 --> Minimum Error: 5.408699529266357\n",
      "Dataset 76 --> Minimum Error: 5.4455938758850095\n",
      "Dataset 77 --> Minimum Error: 5.439572644042968\n",
      "Dataset 78 --> Minimum Error: 5.438622501373291\n",
      "Dataset 79 --> Minimum Error: 5.429659749603272\n",
      "Dataset 80 --> Minimum Error: 5.409051095581054\n",
      "Dataset 81 --> Minimum Error: 5.4001485206604\n",
      "Dataset 82 --> Minimum Error: 5.410610100555421\n",
      "Dataset 83 --> Minimum Error: 5.414704940795898\n",
      "Dataset 84 --> Minimum Error: 6.19559610824585\n",
      "Dataset 85 --> Minimum Error: 6.186888034057617\n",
      "Dataset 86 --> Minimum Error: 6.17038970489502\n",
      "Dataset 87 --> Minimum Error: 6.148398174285889\n",
      "Dataset 88 --> Minimum Error: 6.216067344665528\n",
      "Dataset 89 --> Minimum Error: 6.169900765991211\n",
      "Dataset 90 --> Minimum Error: 6.152192784118652\n",
      "Dataset 91 --> Minimum Error: 6.13358431854248\n",
      "Dataset 92 --> Minimum Error: 6.262593312072754\n",
      "Dataset 93 --> Minimum Error: 6.1896637962341305\n",
      "Dataset 94 --> Minimum Error: 6.1851833747863765\n",
      "Dataset 95 --> Minimum Error: 6.161055995941163\n",
      "Dataset 96 --> Minimum Error: 6.272694528198242\n",
      "Dataset 97 --> Minimum Error: 6.219434185791015\n",
      "Dataset 98 --> Minimum Error: 6.20306029586792\n",
      "Dataset 99 --> Minimum Error: 6.1856760467529295\n",
      "Dataset 100 --> Minimum Error: 6.288948846435547\n",
      "Dataset 101 --> Minimum Error: 6.23941293334961\n",
      "Dataset 102 --> Minimum Error: 6.204498770141601\n",
      "Dataset 103 --> Minimum Error: 6.191723537445068\n",
      "Dataset 104 --> Minimum Error: 6.228418717193604\n",
      "Dataset 105 --> Minimum Error: 6.225410502624512\n",
      "Dataset 106 --> Minimum Error: 6.215207942199707\n",
      "Dataset 107 --> Minimum Error: 6.205625764465331\n",
      "Dataset 108 --> Minimum Error: 6.228549926757813\n",
      "Dataset 109 --> Minimum Error: 6.210175071716309\n",
      "Dataset 110 --> Minimum Error: 6.206796435546876\n",
      "Dataset 111 --> Minimum Error: 6.188495864105224\n",
      "Best result: 5.279337619781494\n",
      "Best dataset: 74\n"
     ]
    }
   ],
   "source": [
    "from sklearn.linear_model import Lasso\n",
    "from sklearn.metrics import mean_absolute_error, r2_score\n",
    "from sklearn.model_selection import cross_val_score\n",
    "\n",
    "results = {}\n",
    "\n",
    "# Run extensive grid search\n",
    "for idx, dataset in enumerate(datasets):\n",
    "    \n",
    "    X_train1, y_train1, X_test1, y_test1, X_train2, y_train2, X_test2, y_test2 = dataset\n",
    "    av_per_dataset = []\n",
    "    \n",
    "    for alpha in [0.01, 0.1, 1, 2, 10]:\n",
    "\n",
    "                clf = Lasso(alpha=alpha)\n",
    "\n",
    "                for cv in range(1, 3):\n",
    "                    if cv == 1:\n",
    "                        clf.fit(X_train1, y_train1)\n",
    "                        y_pred1 = clf.predict(X_test1)\n",
    "                        mean1 = mean_absolute_error(y_test1, y_pred1)\n",
    "\n",
    "                    else:\n",
    "                        clf.fit(X_train2, y_train2)\n",
    "                        y_pred2 = clf.predict(X_test2)\n",
    "                        mean2 = mean_absolute_error(y_test2, y_pred2)\n",
    "\n",
    "                mean_error = (mean1 + mean2) / 2\n",
    "                results[mean_error] = (idx)\n",
    "                av_per_dataset.append(mean_error)\n",
    "            \n",
    "    print('Dataset {} --> Minimum Error: {}'.format(idx, np.mean(av_per_dataset)))\n",
    "    \n",
    "best_error = np.min(list(results.keys()))\n",
    "print('Best result: {}'.format(best_error))\n",
    "print('Best dataset: {}'.format(results[best_error]))"
   ]
  },
  {
   "cell_type": "markdown",
   "metadata": {},
   "source": [
    "# Best Model: SVM-RBF"
   ]
  },
  {
   "cell_type": "code",
   "execution_count": 70,
   "metadata": {},
   "outputs": [
    {
     "data": {
      "application/vnd.jupyter.widget-view+json": {
       "model_id": "023bb35d63a1413695cf41e74dc582c1",
       "version_major": 2,
       "version_minor": 0
      },
      "text/plain": [
       "HBox(children=(IntProgress(value=0, description='Loading Data', max=500, style=ProgressStyle(description_width…"
      ]
     },
     "metadata": {},
     "output_type": "display_data"
    },
    {
     "name": "stdout",
     "output_type": "stream",
     "text": [
      "\n",
      "[60, 60, 60] ===> 5.173014254534557\n"
     ]
    },
    {
     "data": {
      "application/vnd.jupyter.widget-view+json": {
       "model_id": "b5dbeccc2be5437bb1c42ddec6e492df",
       "version_major": 2,
       "version_minor": 0
      },
      "text/plain": [
       "HBox(children=(IntProgress(value=0, description='Loading Data', max=500, style=ProgressStyle(description_width…"
      ]
     },
     "metadata": {},
     "output_type": "display_data"
    },
    {
     "name": "stdout",
     "output_type": "stream",
     "text": [
      "\n",
      "[50, 50, 50] ===> 5.3285463029752\n"
     ]
    },
    {
     "data": {
      "application/vnd.jupyter.widget-view+json": {
       "model_id": "c843a208dc344824b1cc9a7bf2172bb7",
       "version_major": 2,
       "version_minor": 0
      },
      "text/plain": [
       "HBox(children=(IntProgress(value=0, description='Loading Data', max=500, style=ProgressStyle(description_width…"
      ]
     },
     "metadata": {},
     "output_type": "display_data"
    },
    {
     "name": "stdout",
     "output_type": "stream",
     "text": [
      "\n",
      "[40, 40, 40] ===> 5.54412087705942\n"
     ]
    },
    {
     "data": {
      "application/vnd.jupyter.widget-view+json": {
       "model_id": "67e4f721c7db49c4afaf75407a3ad53b",
       "version_major": 2,
       "version_minor": 0
      },
      "text/plain": [
       "HBox(children=(IntProgress(value=0, description='Loading Data', max=500, style=ProgressStyle(description_width…"
      ]
     },
     "metadata": {},
     "output_type": "display_data"
    },
    {
     "name": "stdout",
     "output_type": "stream",
     "text": [
      "\n",
      "[60, 60, 50] ===> 5.195939545114845\n"
     ]
    },
    {
     "data": {
      "application/vnd.jupyter.widget-view+json": {
       "model_id": "1556b9d09e924ea49c4266a9e26de8aa",
       "version_major": 2,
       "version_minor": 0
      },
      "text/plain": [
       "HBox(children=(IntProgress(value=0, description='Loading Data', max=500, style=ProgressStyle(description_width…"
      ]
     },
     "metadata": {},
     "output_type": "display_data"
    },
    {
     "name": "stdout",
     "output_type": "stream",
     "text": [
      "\n",
      "[60, 60, 40] ===> 5.176768036442386\n"
     ]
    }
   ],
   "source": [
    "from sklearn.svm import SVR\n",
    "from sklearn.metrics import mean_absolute_error, r2_score\n",
    "from sklearn.model_selection import cross_val_score\n",
    "import seaborn as sns\n",
    "\n",
    "meta_data_reg_test = pd.read_csv(data_dir + 'meta/meta_data_reg_test.csv')\n",
    "\n",
    "# 1. Get test meta data\n",
    "IDs = meta_data_reg_test['subject_id'].tolist()\n",
    "ages_test = meta_data_reg_test['age'].tolist()\n",
    "\n",
    "# 2. Grey matter map filenames\n",
    "gm_filenames_test = [data_dir + 'greymatter/wc1sub-' + ID + '_T1w.nii.gz' for ID in IDs]\n",
    "\n",
    "img_sizes = [[60, 60, 60], [50, 50, 50], [40, 40, 40], [60, 60, 50], [60, 60, 40]]\n",
    "img_spacing = [3, 3, 3]\n",
    "\n",
    "# Cross validate for image size\n",
    "for img_size in img_sizes:\n",
    "    # RESULTS: Best data idx = 71-75. smoothening = 6, edge filter, 0.90 PCA\n",
    "    gaussian_smooth = 6\n",
    "    edge = True\n",
    "    sharpen = False\n",
    "    n_components = 0.9\n",
    "\n",
    "    dataset = PCADataset(gm_filenames, ages, img_spacing, img_size, gaussian_smooth, edge=edge, sharpen=sharpen)\n",
    "    X_train, X_test, y_train, y_test = dataset.split_data()\n",
    "    X_train1, y_train1, X_test1, y_test1, X_train2, y_train2, X_test2, y_test2 = PCA_process(X_train, X_test, y_train, y_test, n_components)\n",
    "\n",
    "    # 2. Initialise the BEST MODEL\n",
    "    C = 50000000.0\n",
    "    gamma = 1e-07\n",
    "    clf = SVR(kernel='rbf', C=C, gamma=gamma, epsilon=.1)\n",
    "\n",
    "    for cv in range(1, 3):\n",
    "        if cv == 1:\n",
    "            clf.fit(X_train1, y_train1)\n",
    "            y_pred1 = clf.predict(X_test1)\n",
    "            mean1 = mean_absolute_error(y_test1, y_pred1)\n",
    "\n",
    "        else:\n",
    "            clf.fit(X_train2, y_train2)\n",
    "            y_pred2 = clf.predict(X_test2)\n",
    "            mean2 = mean_absolute_error(y_test2, y_pred2)\n",
    "\n",
    "    mean_error = (mean1 + mean2) / 2\n",
    "    \n",
    "    print('{} ===> {}'.format(img_size, mean_error))\n",
    "    "
   ]
  },
  {
   "cell_type": "code",
   "execution_count": 165,
   "metadata": {},
   "outputs": [
    {
     "ename": "KeyboardInterrupt",
     "evalue": "",
     "output_type": "error",
     "traceback": [
      "\u001b[0;31m---------------------------------------------------------------------------\u001b[0m",
      "\u001b[0;31mKeyboardInterrupt\u001b[0m                         Traceback (most recent call last)",
      "\u001b[0;32m<ipython-input-165-a9383aa905ec>\u001b[0m in \u001b[0;36m<module>\u001b[0;34m\u001b[0m\n\u001b[1;32m     15\u001b[0m \u001b[0;31m# X_train, y_train = dataset_train.get_data()\u001b[0m\u001b[0;34m\u001b[0m\u001b[0;34m\u001b[0m\u001b[0;34m\u001b[0m\u001b[0m\n\u001b[1;32m     16\u001b[0m \u001b[0;31m# X_test, y_test = dataset_test.get_data()\u001b[0m\u001b[0;34m\u001b[0m\u001b[0;34m\u001b[0m\u001b[0;34m\u001b[0m\u001b[0m\n\u001b[0;32m---> 17\u001b[0;31m \u001b[0mX_train\u001b[0m\u001b[0;34m,\u001b[0m \u001b[0mX_test\u001b[0m\u001b[0;34m,\u001b[0m \u001b[0my_train\u001b[0m\u001b[0;34m,\u001b[0m \u001b[0my_test\u001b[0m \u001b[0;34m=\u001b[0m \u001b[0mdata\u001b[0m\u001b[0;34m.\u001b[0m\u001b[0msplit_data\u001b[0m\u001b[0;34m(\u001b[0m\u001b[0;34m)\u001b[0m\u001b[0;34m\u001b[0m\u001b[0;34m\u001b[0m\u001b[0m\n\u001b[0m\u001b[1;32m     18\u001b[0m \u001b[0;34m\u001b[0m\u001b[0m\n\u001b[1;32m     19\u001b[0m \u001b[0mpca\u001b[0m \u001b[0;34m=\u001b[0m \u001b[0mPCA\u001b[0m\u001b[0;34m(\u001b[0m\u001b[0mn_components\u001b[0m\u001b[0;34m=\u001b[0m\u001b[0mn_components\u001b[0m\u001b[0;34m)\u001b[0m\u001b[0;34m\u001b[0m\u001b[0;34m\u001b[0m\u001b[0m\n",
      "\u001b[0;32m<ipython-input-146-7971fbba1104>\u001b[0m in \u001b[0;36msplit_data\u001b[0;34m(self)\u001b[0m\n\u001b[1;32m     76\u001b[0m             \u001b[0mnumpy_samples\u001b[0m\u001b[0;34m.\u001b[0m\u001b[0mappend\u001b[0m\u001b[0;34m(\u001b[0m\u001b[0msitk\u001b[0m\u001b[0;34m.\u001b[0m\u001b[0mGetArrayFromImage\u001b[0m\u001b[0;34m(\u001b[0m\u001b[0msample\u001b[0m\u001b[0;34m)\u001b[0m\u001b[0;34m.\u001b[0m\u001b[0mflatten\u001b[0m\u001b[0;34m(\u001b[0m\u001b[0;34m)\u001b[0m\u001b[0;34m)\u001b[0m\u001b[0;34m\u001b[0m\u001b[0;34m\u001b[0m\u001b[0m\n\u001b[1;32m     77\u001b[0m \u001b[0;34m\u001b[0m\u001b[0m\n\u001b[0;32m---> 78\u001b[0;31m         \u001b[0mnumpy_samples\u001b[0m \u001b[0;34m=\u001b[0m \u001b[0mnp\u001b[0m\u001b[0;34m.\u001b[0m\u001b[0marray\u001b[0m\u001b[0;34m(\u001b[0m\u001b[0mnumpy_samples\u001b[0m\u001b[0;34m)\u001b[0m\u001b[0;34m\u001b[0m\u001b[0;34m\u001b[0m\u001b[0m\n\u001b[0m\u001b[1;32m     79\u001b[0m \u001b[0;34m\u001b[0m\u001b[0m\n\u001b[1;32m     80\u001b[0m         \u001b[0mX_train\u001b[0m\u001b[0;34m,\u001b[0m \u001b[0mX_test\u001b[0m\u001b[0;34m,\u001b[0m \u001b[0my_train\u001b[0m\u001b[0;34m,\u001b[0m \u001b[0my_test\u001b[0m \u001b[0;34m=\u001b[0m \u001b[0mtrain_test_split\u001b[0m\u001b[0;34m(\u001b[0m\u001b[0mnumpy_samples\u001b[0m\u001b[0;34m,\u001b[0m \u001b[0mself\u001b[0m\u001b[0;34m.\u001b[0m\u001b[0mages\u001b[0m\u001b[0;34m,\u001b[0m \u001b[0mtest_size\u001b[0m\u001b[0;34m=\u001b[0m\u001b[0;36m0.50\u001b[0m\u001b[0;34m,\u001b[0m \u001b[0mrandom_state\u001b[0m\u001b[0;34m=\u001b[0m\u001b[0;36m42\u001b[0m\u001b[0;34m)\u001b[0m\u001b[0;34m\u001b[0m\u001b[0;34m\u001b[0m\u001b[0m\n",
      "\u001b[0;31mKeyboardInterrupt\u001b[0m: "
     ]
    }
   ],
   "source": [
    "from sklearn.svm import SVR\n",
    "from sklearn.metrics import mean_absolute_error, r2_score\n",
    "from sklearn.model_selection import cross_val_score\n",
    "import seaborn as sns\n",
    "\n",
    "# RESULTS: Best data idx = 71-75. smoothening = 6, edge filter, 0.90 PCA\n",
    "# gaussian_smooth = 6\n",
    "# edge = True\n",
    "# sharpen = False\n",
    "n_components = 0.9\n",
    "# img_size = [60, 60, 60]\n",
    "\n",
    "# dataset_train = PCADataset(gm_filenames, ages, img_spacing, img_size, gaussian_smooth, edge=edge, sharpen=sharpen)\n",
    "# dataset_test = PCADataset(gm_filenames_test, ages_test, img_spacing, img_size, gaussian_smooth, edge=edge, sharpen=sharpen)\n",
    "# X_train, y_train = dataset_train.get_data()\n",
    "# X_test, y_test = dataset_test.get_data()\n",
    "X_train, X_test, y_train, y_test = data.split_data()\n",
    "\n",
    "pca = PCA(n_components=n_components)\n",
    "pca.fit(X_train)\n",
    "X_train = pca.transform(X_train)\n",
    "X_test = pca.transform(X_test)\n",
    "\n",
    "\n",
    "# 2. Initialise the BEST MODEL\n",
    "C = 50000000.0\n",
    "gamma = 1e-07\n",
    "\n",
    "clf = SVR(kernel='rbf', C=C, gamma=gamma, epsilon=.1)\n",
    "clf.fit(X_train, y_train)\n",
    "\n",
    "\n",
    "# 3. Record the results\n",
    "predicted = clf.predict(X_test)\n",
    "# y_test = meta_data_reg_test['age'].values.reshape(-1,)"
   ]
  },
  {
   "cell_type": "markdown",
   "metadata": {},
   "source": [
    "Error calculation and plotting"
   ]
  },
  {
   "cell_type": "code",
   "execution_count": 74,
   "metadata": {},
   "outputs": [
    {
     "name": "stdout",
     "output_type": "stream",
     "text": [
      "mean absolute error: 4.5787\n",
      "r2 score: 0.9187\n"
     ]
    },
    {
     "data": {
      "image/png": "[encoded data removed]",
      "text/plain": [
       "<Figure size 720x432 with 1 Axes>"
      ]
     },
     "metadata": {},
     "output_type": "display_data"
    }
   ],
   "source": [
    "print('mean absolute error: {0:.4f}'.format(mean_absolute_error(y_test,predicted)))\n",
    "print('r2 score: {0:.4f}'.format(r2_score(y_test,predicted)))\n",
    "\n",
    "sns.set(style=\"darkgrid\")\n",
    "fig, ax = plt.subplots(figsize=(10,6))\n",
    "ax.scatter(y_test, predicted, marker='.')\n",
    "ax.plot([y_test.min(), y_test.max()], [y_test.min(), y_test.max()], 'k--', lw=2)\n",
    "ax.set_xlabel('Real Age')\n",
    "ax.set_ylabel('Predicted Age')\n",
    "plt.show()\n",
    "\n"
   ]
  },
  {
   "cell_type": "markdown",
   "metadata": {},
   "source": [
    "## Part C: CNN-based regression using grey matter maps\n",
    "\n",
    "The third approach is similar in nature to the second approach in task B, but instead of using PCA for dimensionality reduction in order to use a more classical regression model, now we will use convolutional neural networks (CNNs) on the grey matter maps for predicting the subject's age directly.\n",
    "\n",
    "You will need to implement a CNN model that takes a grey matter map as an input and maps it to a one-dimensional, real-valued output. A good starting point may be a LeNet-type architecture and adapt the last layers to convert the classification into a regression network. You should have all the necessary ingredients now from above tasks and the notebooks from the lab tutorials for how to set up a CNN model in PyTorch, how to implement a suitable training and testing routine, and how to run a two-fold cross-validation on the 500 subjects similar to tasks A and B.\n",
    "\n",
    "*Note:* For part C, only the spatially normalised grey matter maps should be used. Similar to task A, you may want to set up a configuration for the CNN training that may also involve some resampling of the input data."
   ]
  },
  {
   "cell_type": "code",
   "execution_count": null,
   "metadata": {},
   "outputs": [],
   "source": [
    "########################################\n",
    "# ADD YOUR CODE HERE\n",
    "########################################"
   ]
  },
  {
   "cell_type": "markdown",
   "metadata": {},
   "source": [
    "Error calculation and plotting"
   ]
  },
  {
   "cell_type": "code",
   "execution_count": null,
   "metadata": {},
   "outputs": [],
   "source": [
    "print('mean absolute error: {0}'.format(mean_absolute_error(y,predicted)))\n",
    "print('r2 score: {0}'.format(r2_score(y,predicted)))\n",
    "\n",
    "fig, ax = plt.subplots()\n",
    "ax.scatter(y, predicted, marker='.')\n",
    "ax.plot([y.min(), y.max()], [y.min(), y.max()], 'k--', lw=2)\n",
    "ax.set_xlabel('Real Age')\n",
    "ax.set_ylabel('Predicted Age')\n",
    "plt.show()"
   ]
  }
 ],
 "metadata": {
  "kernelspec": {
   "display_name": "Python 3",
   "language": "python",
   "name": "python3"
  },
  "language_info": {
   "codemirror_mode": {
    "name": "ipython",
    "version": 3
   },
   "file_extension": ".py",
   "mimetype": "text/x-python",
   "name": "python",
   "nbconvert_exporter": "python",
   "pygments_lexer": "ipython3",
   "version": "3.6.7"
  }
 },
 "nbformat": 4,
 "nbformat_minor": 1
}
